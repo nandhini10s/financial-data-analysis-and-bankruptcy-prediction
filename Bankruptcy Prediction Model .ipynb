{
 "cells": [
  {
   "cell_type": "markdown",
   "id": "32cd22af",
   "metadata": {},
   "source": [
    "## BANKRUPTCY PREDICTION MODEL "
   ]
  },
  {
   "cell_type": "code",
   "execution_count": 1,
   "id": "348eba0d",
   "metadata": {},
   "outputs": [
    {
     "data": {
      "text/html": [
       "<div>\n",
       "<style scoped>\n",
       "    .dataframe tbody tr th:only-of-type {\n",
       "        vertical-align: middle;\n",
       "    }\n",
       "\n",
       "    .dataframe tbody tr th {\n",
       "        vertical-align: top;\n",
       "    }\n",
       "\n",
       "    .dataframe thead th {\n",
       "        text-align: right;\n",
       "    }\n",
       "</style>\n",
       "<table border=\"1\" class=\"dataframe\">\n",
       "  <thead>\n",
       "    <tr style=\"text-align: right;\">\n",
       "      <th></th>\n",
       "      <th>Company_id</th>\n",
       "      <th>Bankrupt</th>\n",
       "      <th>ROA_before_interest_and_depreciation_before_interest</th>\n",
       "      <th>ROA_before_interest_and_%_after_tax</th>\n",
       "      <th>ROA_before_interest_and_depreciation_after_ tax</th>\n",
       "      <th>Operating_Gross_Margin</th>\n",
       "      <th>Realized_Sales_Gross_Margin</th>\n",
       "      <th>Operating_Profit_Rate</th>\n",
       "      <th>Pre-tax_net_Interest_Rate</th>\n",
       "      <th>After-tax_net_Interest_Rate</th>\n",
       "      <th>...</th>\n",
       "      <th>Net_Income_to_Total_Assets</th>\n",
       "      <th>Total_assets_to_GNP_price</th>\n",
       "      <th>No-credit_Interval</th>\n",
       "      <th>Gross_Profit_to_Sales</th>\n",
       "      <th>Net_Income_to_Stockholders_Equity</th>\n",
       "      <th>Liability_ to_Equity</th>\n",
       "      <th>Degree_of_Financial_Leverage</th>\n",
       "      <th>Interest_Coverage_Ratio</th>\n",
       "      <th>Net_Income_Flag</th>\n",
       "      <th>Equity _to_Liability</th>\n",
       "    </tr>\n",
       "  </thead>\n",
       "  <tbody>\n",
       "    <tr>\n",
       "      <th>0</th>\n",
       "      <td>1</td>\n",
       "      <td>1</td>\n",
       "      <td>0.370594</td>\n",
       "      <td>0.424389</td>\n",
       "      <td>0.405750</td>\n",
       "      <td>0.601457</td>\n",
       "      <td>0.601457</td>\n",
       "      <td>0.998969</td>\n",
       "      <td>0.796887</td>\n",
       "      <td>0.808809</td>\n",
       "      <td>...</td>\n",
       "      <td>0.716845</td>\n",
       "      <td>0.009219</td>\n",
       "      <td>0.622879</td>\n",
       "      <td>0.601453</td>\n",
       "      <td>0.827890</td>\n",
       "      <td>0.290202</td>\n",
       "      <td>0.026601</td>\n",
       "      <td>0.564050</td>\n",
       "      <td>1</td>\n",
       "      <td>0.016469</td>\n",
       "    </tr>\n",
       "    <tr>\n",
       "      <th>1</th>\n",
       "      <td>2</td>\n",
       "      <td>1</td>\n",
       "      <td>0.464291</td>\n",
       "      <td>0.538214</td>\n",
       "      <td>0.516730</td>\n",
       "      <td>0.610235</td>\n",
       "      <td>0.610235</td>\n",
       "      <td>0.998946</td>\n",
       "      <td>0.797380</td>\n",
       "      <td>0.809301</td>\n",
       "      <td>...</td>\n",
       "      <td>0.795297</td>\n",
       "      <td>0.008323</td>\n",
       "      <td>0.623652</td>\n",
       "      <td>0.610237</td>\n",
       "      <td>0.839969</td>\n",
       "      <td>0.283846</td>\n",
       "      <td>0.264577</td>\n",
       "      <td>0.570175</td>\n",
       "      <td>1</td>\n",
       "      <td>0.020794</td>\n",
       "    </tr>\n",
       "    <tr>\n",
       "      <th>2</th>\n",
       "      <td>3</td>\n",
       "      <td>1</td>\n",
       "      <td>0.426071</td>\n",
       "      <td>0.499019</td>\n",
       "      <td>0.472295</td>\n",
       "      <td>0.601450</td>\n",
       "      <td>0.601364</td>\n",
       "      <td>0.998857</td>\n",
       "      <td>0.796403</td>\n",
       "      <td>0.808388</td>\n",
       "      <td>...</td>\n",
       "      <td>0.774670</td>\n",
       "      <td>0.040003</td>\n",
       "      <td>0.623841</td>\n",
       "      <td>0.601449</td>\n",
       "      <td>0.836774</td>\n",
       "      <td>0.290189</td>\n",
       "      <td>0.026555</td>\n",
       "      <td>0.563706</td>\n",
       "      <td>1</td>\n",
       "      <td>0.016474</td>\n",
       "    </tr>\n",
       "    <tr>\n",
       "      <th>3</th>\n",
       "      <td>4</td>\n",
       "      <td>1</td>\n",
       "      <td>0.399844</td>\n",
       "      <td>0.451265</td>\n",
       "      <td>0.457733</td>\n",
       "      <td>0.583541</td>\n",
       "      <td>0.583541</td>\n",
       "      <td>0.998700</td>\n",
       "      <td>0.796967</td>\n",
       "      <td>0.808966</td>\n",
       "      <td>...</td>\n",
       "      <td>0.739555</td>\n",
       "      <td>0.003252</td>\n",
       "      <td>0.622929</td>\n",
       "      <td>0.583538</td>\n",
       "      <td>0.834697</td>\n",
       "      <td>0.281721</td>\n",
       "      <td>0.026697</td>\n",
       "      <td>0.564663</td>\n",
       "      <td>1</td>\n",
       "      <td>0.023982</td>\n",
       "    </tr>\n",
       "    <tr>\n",
       "      <th>4</th>\n",
       "      <td>5</td>\n",
       "      <td>1</td>\n",
       "      <td>0.465022</td>\n",
       "      <td>0.538432</td>\n",
       "      <td>0.522298</td>\n",
       "      <td>0.598783</td>\n",
       "      <td>0.598783</td>\n",
       "      <td>0.998973</td>\n",
       "      <td>0.797366</td>\n",
       "      <td>0.809304</td>\n",
       "      <td>...</td>\n",
       "      <td>0.795016</td>\n",
       "      <td>0.003878</td>\n",
       "      <td>0.623521</td>\n",
       "      <td>0.598782</td>\n",
       "      <td>0.839973</td>\n",
       "      <td>0.278514</td>\n",
       "      <td>0.024752</td>\n",
       "      <td>0.575617</td>\n",
       "      <td>1</td>\n",
       "      <td>0.035490</td>\n",
       "    </tr>\n",
       "  </tbody>\n",
       "</table>\n",
       "<p>5 rows × 95 columns</p>\n",
       "</div>"
      ],
      "text/plain": [
       "   Company_id  Bankrupt  \\\n",
       "0           1         1   \n",
       "1           2         1   \n",
       "2           3         1   \n",
       "3           4         1   \n",
       "4           5         1   \n",
       "\n",
       "    ROA_before_interest_and_depreciation_before_interest  \\\n",
       "0                                           0.370594       \n",
       "1                                           0.464291       \n",
       "2                                           0.426071       \n",
       "3                                           0.399844       \n",
       "4                                           0.465022       \n",
       "\n",
       "    ROA_before_interest_and_%_after_tax  \\\n",
       "0                              0.424389   \n",
       "1                              0.538214   \n",
       "2                              0.499019   \n",
       "3                              0.451265   \n",
       "4                              0.538432   \n",
       "\n",
       "    ROA_before_interest_and_depreciation_after_ tax   Operating_Gross_Margin  \\\n",
       "0                                          0.405750                 0.601457   \n",
       "1                                          0.516730                 0.610235   \n",
       "2                                          0.472295                 0.601450   \n",
       "3                                          0.457733                 0.583541   \n",
       "4                                          0.522298                 0.598783   \n",
       "\n",
       "    Realized_Sales_Gross_Margin   Operating_Profit_Rate  \\\n",
       "0                      0.601457                0.998969   \n",
       "1                      0.610235                0.998946   \n",
       "2                      0.601364                0.998857   \n",
       "3                      0.583541                0.998700   \n",
       "4                      0.598783                0.998973   \n",
       "\n",
       "    Pre-tax_net_Interest_Rate   After-tax_net_Interest_Rate  ...  \\\n",
       "0                    0.796887                      0.808809  ...   \n",
       "1                    0.797380                      0.809301  ...   \n",
       "2                    0.796403                      0.808388  ...   \n",
       "3                    0.796967                      0.808966  ...   \n",
       "4                    0.797366                      0.809304  ...   \n",
       "\n",
       "    Net_Income_to_Total_Assets   Total_assets_to_GNP_price  \\\n",
       "0                     0.716845                    0.009219   \n",
       "1                     0.795297                    0.008323   \n",
       "2                     0.774670                    0.040003   \n",
       "3                     0.739555                    0.003252   \n",
       "4                     0.795016                    0.003878   \n",
       "\n",
       "    No-credit_Interval   Gross_Profit_to_Sales  \\\n",
       "0             0.622879                0.601453   \n",
       "1             0.623652                0.610237   \n",
       "2             0.623841                0.601449   \n",
       "3             0.622929                0.583538   \n",
       "4             0.623521                0.598782   \n",
       "\n",
       "    Net_Income_to_Stockholders_Equity   Liability_ to_Equity  \\\n",
       "0                            0.827890               0.290202   \n",
       "1                            0.839969               0.283846   \n",
       "2                            0.836774               0.290189   \n",
       "3                            0.834697               0.281721   \n",
       "4                            0.839973               0.278514   \n",
       "\n",
       "    Degree_of_Financial_Leverage   Interest_Coverage_Ratio   Net_Income_Flag  \\\n",
       "0                       0.026601                  0.564050                 1   \n",
       "1                       0.264577                  0.570175                 1   \n",
       "2                       0.026555                  0.563706                 1   \n",
       "3                       0.026697                  0.564663                 1   \n",
       "4                       0.024752                  0.575617                 1   \n",
       "\n",
       "    Equity _to_Liability  \n",
       "0               0.016469  \n",
       "1               0.020794  \n",
       "2               0.016474  \n",
       "3               0.023982  \n",
       "4               0.035490  \n",
       "\n",
       "[5 rows x 95 columns]"
      ]
     },
     "execution_count": 1,
     "metadata": {},
     "output_type": "execute_result"
    }
   ],
   "source": [
    "import pandas as pd\n",
    "import seaborn as sns\n",
    "data=pd.read_csv('C:/Users/HP/Desktop/PROJECT/bankrupcy/bankruptcy_dataset.csv')\n",
    "data.head()"
   ]
  },
  {
   "cell_type": "code",
   "execution_count": 2,
   "id": "ebc682ab",
   "metadata": {},
   "outputs": [
    {
     "name": "stdout",
     "output_type": "stream",
     "text": [
      "<class 'pandas.core.frame.DataFrame'>\n",
      "RangeIndex: 6819 entries, 0 to 6818\n",
      "Data columns (total 95 columns):\n",
      " #   Column                                                 Non-Null Count  Dtype  \n",
      "---  ------                                                 --------------  -----  \n",
      " 0   Company_id                                             6819 non-null   int64  \n",
      " 1   Bankrupt                                               6819 non-null   int64  \n",
      " 2    ROA_before_interest_and_depreciation_before_interest  6819 non-null   float64\n",
      " 3    ROA_before_interest_and_%_after_tax                   6819 non-null   float64\n",
      " 4    ROA_before_interest_and_depreciation_after_ tax       6819 non-null   float64\n",
      " 5    Operating_Gross_Margin                                6819 non-null   float64\n",
      " 6    Realized_Sales_Gross_Margin                           6819 non-null   float64\n",
      " 7    Operating_Profit_Rate                                 6819 non-null   float64\n",
      " 8    Pre-tax_net_Interest_Rate                             6819 non-null   float64\n",
      " 9    After-tax_net_Interest_Rate                           6819 non-null   float64\n",
      " 10   Non-industry_income_and_expenditure/revenue           6819 non-null   float64\n",
      " 11   Continuous_interest_rate_(after_tax)                  6819 non-null   float64\n",
      " 12   Operating_Expense_Rate                                6819 non-null   float64\n",
      " 13   Research_and_development_expense_rate                 6819 non-null   float64\n",
      " 14   Cash_flow_rate                                        6819 non-null   float64\n",
      " 15   Interest-bearing_debt_interest_rate                   6819 non-null   float64\n",
      " 16   Tax_rate                                              6819 non-null   float64\n",
      " 17   Net_Value_Per_Share                                   6819 non-null   float64\n",
      " 18   Persistent_EPS_in_the_Last_Four_Seasons               6819 non-null   float64\n",
      " 19   Cash_Flow_Per_Share                                   6819 non-null   float64\n",
      " 20   Revenue_Per_Share_(Yuan)                              6819 non-null   float64\n",
      " 21   Operating_Profit_Per_Share_(Yuan)                     6819 non-null   float64\n",
      " 22   Per_Share_Net_profit_before_tax_(Yuan)                6819 non-null   float64\n",
      " 23   Realized_Sales_Gross_Profit_Growth_Rate               6819 non-null   float64\n",
      " 24   Operating_Profit_Growth_Rate                          6819 non-null   float64\n",
      " 25   After_tax_Net_Profit_Growth_Rate                      6819 non-null   float64\n",
      " 26   Regular_Net_Profit_Growth_Rate                        6819 non-null   float64\n",
      " 27   Continuous_Net_Profit_Growth_Rate                     6819 non-null   float64\n",
      " 28   Total_Asset_Growth_Rate                               6819 non-null   float64\n",
      " 29   Net_Value_Growth_Rate                                 6819 non-null   float64\n",
      " 30   Total_Asset_Return_Growth_Rate_Ratio                  6819 non-null   float64\n",
      " 31   Cash_Reinvestment _%                                  6819 non-null   float64\n",
      " 32   Current_Ratio                                         6819 non-null   float64\n",
      " 33   Quick_Ratio                                           6819 non-null   float64\n",
      " 34   Interest_Expense_Ratio                                6819 non-null   float64\n",
      " 35   Total_debt/Total_net_worth                            6819 non-null   float64\n",
      " 36   Debt_ratio_%                                          6819 non-null   float64\n",
      " 37   Net_worth/Assets                                      6819 non-null   float64\n",
      " 38   Long-term_fund_suitability_ratio                      6819 non-null   float64\n",
      " 39   Borrowing_dependency                                  6819 non-null   float64\n",
      " 40   Contingent_liabilities/Net_Worth                      6819 non-null   float64\n",
      " 41   Operating_profit/Paid_in_capital                      6819 non-null   float64\n",
      " 42   Net_profit_before_tax/Paid_in_capital                 6819 non-null   float64\n",
      " 43   Inventory_and_accounts_receivable/Net_value           6819 non-null   float64\n",
      " 44   Total_Asset_Turnover                                  6819 non-null   float64\n",
      " 45   Accounts_Receivable_Turnover                          6819 non-null   float64\n",
      " 46   Average_Collection_Days                               6819 non-null   float64\n",
      " 47   Inventory_Turnover_Rate_(times)                       6819 non-null   float64\n",
      " 48   Fixed_Assets_Turnover_Frequency                       6819 non-null   float64\n",
      " 49   Net_Worth_Turnover_Rate_(times)                       6819 non-null   float64\n",
      " 50   Revenue_per_person                                    6819 non-null   float64\n",
      " 51   Operating_profit_per_person                           6819 non-null   float64\n",
      " 52   Allocation_rate_per_person                            6819 non-null   float64\n",
      " 53   Working_Capital_to_Total_Assets                       6819 non-null   float64\n",
      " 54   Quick_Assets/Total_Assets                             6819 non-null   float64\n",
      " 55   Current_Assets/Total_Assets                           6819 non-null   float64\n",
      " 56   Cash/Total_Assets                                     6819 non-null   float64\n",
      " 57   Quick_Assets/Current_Liability                        6819 non-null   float64\n",
      " 58   Cash/Current_Liability                                6819 non-null   float64\n",
      " 59   Current_Liability_to_Assets                           6819 non-null   float64\n",
      " 60   Operating_Funds_to_Liability                          6819 non-null   float64\n",
      " 61   Inventory/Working_Capital                             6819 non-null   float64\n",
      " 62   Inventory/Current_Liability                           6819 non-null   float64\n",
      " 63   Current_Liabilities/Liability                         6819 non-null   float64\n",
      " 64   Working_Capital/Equity                                6819 non-null   float64\n",
      " 65   Current_Liabilities/Equity                            6819 non-null   float64\n",
      " 66   Long-term_Liability_to_Current_Assets                 6819 non-null   float64\n",
      " 67   Retained_Earnings_to_Total_Assets                     6819 non-null   float64\n",
      " 68   Total_income/Total_expense                            6819 non-null   float64\n",
      " 69   Total_expense/Assets                                  6819 non-null   float64\n",
      " 70   Current_Asset_Turnover_Rate                           6819 non-null   float64\n",
      " 71   Quick_Asset_Turnover_ Rate                            6819 non-null   float64\n",
      " 72   Working_capitcal_Turnover_Rate                        6819 non-null   float64\n",
      " 73   Cash_Turnover_Rate                                    6819 non-null   float64\n",
      " 74   Cash_Flow_to_Sales                                    6819 non-null   float64\n",
      " 75   Fixed_Assets_to_Assets                                6819 non-null   float64\n",
      " 76   Current_Liability_to_Liability                        6819 non-null   float64\n",
      " 77   Current_Liability_to_Equity                           6819 non-null   float64\n",
      " 78   Equity_to_Long-term_Liability                         6819 non-null   float64\n",
      " 79   Cash_Flow_to_Total_Assets                             6819 non-null   float64\n",
      " 80   Cash_Flow_to_Liability                                6819 non-null   float64\n",
      " 81   CFO_to_Assets                                         6819 non-null   float64\n",
      " 82   Cash_Flow_to_Equity                                   6819 non-null   float64\n",
      " 83   Current_Liability_to_Current_Assets                   6819 non-null   float64\n",
      " 84   Liability_Assets_Flag                                 6819 non-null   int64  \n",
      " 85   Net_Income_to_Total_Assets                            6819 non-null   float64\n",
      " 86   Total_assets_to_GNP_price                             6819 non-null   float64\n",
      " 87   No-credit_Interval                                    6819 non-null   float64\n",
      " 88   Gross_Profit_to_Sales                                 6819 non-null   float64\n",
      " 89   Net_Income_to_Stockholders_Equity                     6819 non-null   float64\n",
      " 90   Liability_ to_Equity                                  6819 non-null   float64\n",
      " 91   Degree_of_Financial_Leverage                          6819 non-null   float64\n",
      " 92   Interest_Coverage_Ratio                               6819 non-null   float64\n",
      " 93   Net_Income_Flag                                       6819 non-null   int64  \n",
      " 94   Equity _to_Liability                                  6819 non-null   float64\n",
      "dtypes: float64(91), int64(4)\n",
      "memory usage: 4.9 MB\n"
     ]
    }
   ],
   "source": [
    "data.info()"
   ]
  },
  {
   "cell_type": "code",
   "execution_count": 3,
   "id": "091e385c",
   "metadata": {},
   "outputs": [
    {
     "data": {
      "text/plain": [
       "Company_id                                               False\n",
       "Bankrupt                                                 False\n",
       " ROA_before_interest_and_depreciation_before_interest    False\n",
       " ROA_before_interest_and_%_after_tax                     False\n",
       " ROA_before_interest_and_depreciation_after_ tax         False\n",
       "                                                         ...  \n",
       " Liability_ to_Equity                                    False\n",
       " Degree_of_Financial_Leverage                            False\n",
       " Interest_Coverage_Ratio                                 False\n",
       " Net_Income_Flag                                         False\n",
       " Equity _to_Liability                                    False\n",
       "Length: 95, dtype: bool"
      ]
     },
     "execution_count": 3,
     "metadata": {},
     "output_type": "execute_result"
    }
   ],
   "source": [
    "data.isnull().any()"
   ]
  },
  {
   "cell_type": "markdown",
   "id": "691cc2d5",
   "metadata": {},
   "source": [
    "There are no missing values in the dataset"
   ]
  },
  {
   "cell_type": "code",
   "execution_count": 4,
   "id": "9c9c7109",
   "metadata": {},
   "outputs": [
    {
     "data": {
      "text/plain": [
       "0"
      ]
     },
     "execution_count": 4,
     "metadata": {},
     "output_type": "execute_result"
    }
   ],
   "source": [
    "data.duplicated().sum()"
   ]
  },
  {
   "cell_type": "markdown",
   "id": "a08263de",
   "metadata": {},
   "source": [
    "There are no duplicate values in the dataset"
   ]
  },
  {
   "cell_type": "markdown",
   "id": "c5e76aa6",
   "metadata": {},
   "source": [
    "## EXPLORATORY DATA ANALYSIS"
   ]
  },
  {
   "cell_type": "code",
   "execution_count": 5,
   "id": "d034de18",
   "metadata": {},
   "outputs": [
    {
     "data": {
      "text/html": [
       "<div>\n",
       "<style scoped>\n",
       "    .dataframe tbody tr th:only-of-type {\n",
       "        vertical-align: middle;\n",
       "    }\n",
       "\n",
       "    .dataframe tbody tr th {\n",
       "        vertical-align: top;\n",
       "    }\n",
       "\n",
       "    .dataframe thead th {\n",
       "        text-align: right;\n",
       "    }\n",
       "</style>\n",
       "<table border=\"1\" class=\"dataframe\">\n",
       "  <thead>\n",
       "    <tr style=\"text-align: right;\">\n",
       "      <th></th>\n",
       "      <th>Company_id</th>\n",
       "      <th>Bankrupt</th>\n",
       "      <th>ROA_before_interest_and_depreciation_before_interest</th>\n",
       "      <th>ROA_before_interest_and_%_after_tax</th>\n",
       "      <th>ROA_before_interest_and_depreciation_after_ tax</th>\n",
       "      <th>Operating_Gross_Margin</th>\n",
       "      <th>Realized_Sales_Gross_Margin</th>\n",
       "      <th>Operating_Profit_Rate</th>\n",
       "      <th>Pre-tax_net_Interest_Rate</th>\n",
       "      <th>After-tax_net_Interest_Rate</th>\n",
       "      <th>...</th>\n",
       "      <th>Net_Income_to_Total_Assets</th>\n",
       "      <th>Total_assets_to_GNP_price</th>\n",
       "      <th>No-credit_Interval</th>\n",
       "      <th>Gross_Profit_to_Sales</th>\n",
       "      <th>Net_Income_to_Stockholders_Equity</th>\n",
       "      <th>Liability_ to_Equity</th>\n",
       "      <th>Degree_of_Financial_Leverage</th>\n",
       "      <th>Interest_Coverage_Ratio</th>\n",
       "      <th>Net_Income_Flag</th>\n",
       "      <th>Equity _to_Liability</th>\n",
       "    </tr>\n",
       "  </thead>\n",
       "  <tbody>\n",
       "    <tr>\n",
       "      <th>count</th>\n",
       "      <td>6819.000000</td>\n",
       "      <td>6819.000000</td>\n",
       "      <td>6819.000000</td>\n",
       "      <td>6819.000000</td>\n",
       "      <td>6819.000000</td>\n",
       "      <td>6819.000000</td>\n",
       "      <td>6819.000000</td>\n",
       "      <td>6819.000000</td>\n",
       "      <td>6819.000000</td>\n",
       "      <td>6819.000000</td>\n",
       "      <td>...</td>\n",
       "      <td>6819.000000</td>\n",
       "      <td>6.819000e+03</td>\n",
       "      <td>6819.000000</td>\n",
       "      <td>6819.000000</td>\n",
       "      <td>6819.000000</td>\n",
       "      <td>6819.000000</td>\n",
       "      <td>6819.000000</td>\n",
       "      <td>6819.000000</td>\n",
       "      <td>6819.0</td>\n",
       "      <td>6819.000000</td>\n",
       "    </tr>\n",
       "    <tr>\n",
       "      <th>mean</th>\n",
       "      <td>3410.000000</td>\n",
       "      <td>0.032263</td>\n",
       "      <td>0.505180</td>\n",
       "      <td>0.558625</td>\n",
       "      <td>0.553589</td>\n",
       "      <td>0.607948</td>\n",
       "      <td>0.607929</td>\n",
       "      <td>0.998755</td>\n",
       "      <td>0.797190</td>\n",
       "      <td>0.809084</td>\n",
       "      <td>...</td>\n",
       "      <td>0.807760</td>\n",
       "      <td>1.862942e+07</td>\n",
       "      <td>0.623915</td>\n",
       "      <td>0.607946</td>\n",
       "      <td>0.840402</td>\n",
       "      <td>0.280365</td>\n",
       "      <td>0.027541</td>\n",
       "      <td>0.565358</td>\n",
       "      <td>1.0</td>\n",
       "      <td>0.047578</td>\n",
       "    </tr>\n",
       "    <tr>\n",
       "      <th>std</th>\n",
       "      <td>1968.620075</td>\n",
       "      <td>0.176710</td>\n",
       "      <td>0.060686</td>\n",
       "      <td>0.065620</td>\n",
       "      <td>0.061595</td>\n",
       "      <td>0.016934</td>\n",
       "      <td>0.016916</td>\n",
       "      <td>0.013010</td>\n",
       "      <td>0.012869</td>\n",
       "      <td>0.013601</td>\n",
       "      <td>...</td>\n",
       "      <td>0.040332</td>\n",
       "      <td>3.764501e+08</td>\n",
       "      <td>0.012290</td>\n",
       "      <td>0.016934</td>\n",
       "      <td>0.014523</td>\n",
       "      <td>0.014463</td>\n",
       "      <td>0.015668</td>\n",
       "      <td>0.013214</td>\n",
       "      <td>0.0</td>\n",
       "      <td>0.050014</td>\n",
       "    </tr>\n",
       "    <tr>\n",
       "      <th>min</th>\n",
       "      <td>1.000000</td>\n",
       "      <td>0.000000</td>\n",
       "      <td>0.000000</td>\n",
       "      <td>0.000000</td>\n",
       "      <td>0.000000</td>\n",
       "      <td>0.000000</td>\n",
       "      <td>0.000000</td>\n",
       "      <td>0.000000</td>\n",
       "      <td>0.000000</td>\n",
       "      <td>0.000000</td>\n",
       "      <td>...</td>\n",
       "      <td>0.000000</td>\n",
       "      <td>0.000000e+00</td>\n",
       "      <td>0.000000</td>\n",
       "      <td>0.000000</td>\n",
       "      <td>0.000000</td>\n",
       "      <td>0.000000</td>\n",
       "      <td>0.000000</td>\n",
       "      <td>0.000000</td>\n",
       "      <td>1.0</td>\n",
       "      <td>0.000000</td>\n",
       "    </tr>\n",
       "    <tr>\n",
       "      <th>25%</th>\n",
       "      <td>1705.500000</td>\n",
       "      <td>0.000000</td>\n",
       "      <td>0.476527</td>\n",
       "      <td>0.535543</td>\n",
       "      <td>0.527277</td>\n",
       "      <td>0.600445</td>\n",
       "      <td>0.600434</td>\n",
       "      <td>0.998969</td>\n",
       "      <td>0.797386</td>\n",
       "      <td>0.809312</td>\n",
       "      <td>...</td>\n",
       "      <td>0.796750</td>\n",
       "      <td>9.036205e-04</td>\n",
       "      <td>0.623636</td>\n",
       "      <td>0.600443</td>\n",
       "      <td>0.840115</td>\n",
       "      <td>0.276944</td>\n",
       "      <td>0.026791</td>\n",
       "      <td>0.565158</td>\n",
       "      <td>1.0</td>\n",
       "      <td>0.024477</td>\n",
       "    </tr>\n",
       "    <tr>\n",
       "      <th>50%</th>\n",
       "      <td>3410.000000</td>\n",
       "      <td>0.000000</td>\n",
       "      <td>0.502706</td>\n",
       "      <td>0.559802</td>\n",
       "      <td>0.552278</td>\n",
       "      <td>0.605997</td>\n",
       "      <td>0.605976</td>\n",
       "      <td>0.999022</td>\n",
       "      <td>0.797464</td>\n",
       "      <td>0.809375</td>\n",
       "      <td>...</td>\n",
       "      <td>0.810619</td>\n",
       "      <td>2.085213e-03</td>\n",
       "      <td>0.623879</td>\n",
       "      <td>0.605998</td>\n",
       "      <td>0.841179</td>\n",
       "      <td>0.278778</td>\n",
       "      <td>0.026808</td>\n",
       "      <td>0.565252</td>\n",
       "      <td>1.0</td>\n",
       "      <td>0.033798</td>\n",
       "    </tr>\n",
       "    <tr>\n",
       "      <th>75%</th>\n",
       "      <td>5114.500000</td>\n",
       "      <td>0.000000</td>\n",
       "      <td>0.535563</td>\n",
       "      <td>0.589157</td>\n",
       "      <td>0.584105</td>\n",
       "      <td>0.613914</td>\n",
       "      <td>0.613842</td>\n",
       "      <td>0.999095</td>\n",
       "      <td>0.797579</td>\n",
       "      <td>0.809469</td>\n",
       "      <td>...</td>\n",
       "      <td>0.826455</td>\n",
       "      <td>5.269777e-03</td>\n",
       "      <td>0.624168</td>\n",
       "      <td>0.613913</td>\n",
       "      <td>0.842357</td>\n",
       "      <td>0.281449</td>\n",
       "      <td>0.026913</td>\n",
       "      <td>0.565725</td>\n",
       "      <td>1.0</td>\n",
       "      <td>0.052838</td>\n",
       "    </tr>\n",
       "    <tr>\n",
       "      <th>max</th>\n",
       "      <td>6819.000000</td>\n",
       "      <td>1.000000</td>\n",
       "      <td>1.000000</td>\n",
       "      <td>1.000000</td>\n",
       "      <td>1.000000</td>\n",
       "      <td>1.000000</td>\n",
       "      <td>1.000000</td>\n",
       "      <td>1.000000</td>\n",
       "      <td>1.000000</td>\n",
       "      <td>1.000000</td>\n",
       "      <td>...</td>\n",
       "      <td>1.000000</td>\n",
       "      <td>9.820000e+09</td>\n",
       "      <td>1.000000</td>\n",
       "      <td>1.000000</td>\n",
       "      <td>1.000000</td>\n",
       "      <td>1.000000</td>\n",
       "      <td>1.000000</td>\n",
       "      <td>1.000000</td>\n",
       "      <td>1.0</td>\n",
       "      <td>1.000000</td>\n",
       "    </tr>\n",
       "  </tbody>\n",
       "</table>\n",
       "<p>8 rows × 95 columns</p>\n",
       "</div>"
      ],
      "text/plain": [
       "        Company_id     Bankrupt  \\\n",
       "count  6819.000000  6819.000000   \n",
       "mean   3410.000000     0.032263   \n",
       "std    1968.620075     0.176710   \n",
       "min       1.000000     0.000000   \n",
       "25%    1705.500000     0.000000   \n",
       "50%    3410.000000     0.000000   \n",
       "75%    5114.500000     0.000000   \n",
       "max    6819.000000     1.000000   \n",
       "\n",
       "        ROA_before_interest_and_depreciation_before_interest  \\\n",
       "count                                        6819.000000       \n",
       "mean                                            0.505180       \n",
       "std                                             0.060686       \n",
       "min                                             0.000000       \n",
       "25%                                             0.476527       \n",
       "50%                                             0.502706       \n",
       "75%                                             0.535563       \n",
       "max                                             1.000000       \n",
       "\n",
       "        ROA_before_interest_and_%_after_tax  \\\n",
       "count                           6819.000000   \n",
       "mean                               0.558625   \n",
       "std                                0.065620   \n",
       "min                                0.000000   \n",
       "25%                                0.535543   \n",
       "50%                                0.559802   \n",
       "75%                                0.589157   \n",
       "max                                1.000000   \n",
       "\n",
       "        ROA_before_interest_and_depreciation_after_ tax  \\\n",
       "count                                       6819.000000   \n",
       "mean                                           0.553589   \n",
       "std                                            0.061595   \n",
       "min                                            0.000000   \n",
       "25%                                            0.527277   \n",
       "50%                                            0.552278   \n",
       "75%                                            0.584105   \n",
       "max                                            1.000000   \n",
       "\n",
       "        Operating_Gross_Margin   Realized_Sales_Gross_Margin  \\\n",
       "count              6819.000000                   6819.000000   \n",
       "mean                  0.607948                      0.607929   \n",
       "std                   0.016934                      0.016916   \n",
       "min                   0.000000                      0.000000   \n",
       "25%                   0.600445                      0.600434   \n",
       "50%                   0.605997                      0.605976   \n",
       "75%                   0.613914                      0.613842   \n",
       "max                   1.000000                      1.000000   \n",
       "\n",
       "        Operating_Profit_Rate   Pre-tax_net_Interest_Rate  \\\n",
       "count             6819.000000                 6819.000000   \n",
       "mean                 0.998755                    0.797190   \n",
       "std                  0.013010                    0.012869   \n",
       "min                  0.000000                    0.000000   \n",
       "25%                  0.998969                    0.797386   \n",
       "50%                  0.999022                    0.797464   \n",
       "75%                  0.999095                    0.797579   \n",
       "max                  1.000000                    1.000000   \n",
       "\n",
       "        After-tax_net_Interest_Rate  ...   Net_Income_to_Total_Assets  \\\n",
       "count                   6819.000000  ...                  6819.000000   \n",
       "mean                       0.809084  ...                     0.807760   \n",
       "std                        0.013601  ...                     0.040332   \n",
       "min                        0.000000  ...                     0.000000   \n",
       "25%                        0.809312  ...                     0.796750   \n",
       "50%                        0.809375  ...                     0.810619   \n",
       "75%                        0.809469  ...                     0.826455   \n",
       "max                        1.000000  ...                     1.000000   \n",
       "\n",
       "        Total_assets_to_GNP_price   No-credit_Interval  \\\n",
       "count                6.819000e+03          6819.000000   \n",
       "mean                 1.862942e+07             0.623915   \n",
       "std                  3.764501e+08             0.012290   \n",
       "min                  0.000000e+00             0.000000   \n",
       "25%                  9.036205e-04             0.623636   \n",
       "50%                  2.085213e-03             0.623879   \n",
       "75%                  5.269777e-03             0.624168   \n",
       "max                  9.820000e+09             1.000000   \n",
       "\n",
       "        Gross_Profit_to_Sales   Net_Income_to_Stockholders_Equity  \\\n",
       "count             6819.000000                         6819.000000   \n",
       "mean                 0.607946                            0.840402   \n",
       "std                  0.016934                            0.014523   \n",
       "min                  0.000000                            0.000000   \n",
       "25%                  0.600443                            0.840115   \n",
       "50%                  0.605998                            0.841179   \n",
       "75%                  0.613913                            0.842357   \n",
       "max                  1.000000                            1.000000   \n",
       "\n",
       "        Liability_ to_Equity   Degree_of_Financial_Leverage  \\\n",
       "count            6819.000000                    6819.000000   \n",
       "mean                0.280365                       0.027541   \n",
       "std                 0.014463                       0.015668   \n",
       "min                 0.000000                       0.000000   \n",
       "25%                 0.276944                       0.026791   \n",
       "50%                 0.278778                       0.026808   \n",
       "75%                 0.281449                       0.026913   \n",
       "max                 1.000000                       1.000000   \n",
       "\n",
       "        Interest_Coverage_Ratio   Net_Income_Flag   Equity _to_Liability  \n",
       "count               6819.000000            6819.0            6819.000000  \n",
       "mean                   0.565358               1.0               0.047578  \n",
       "std                    0.013214               0.0               0.050014  \n",
       "min                    0.000000               1.0               0.000000  \n",
       "25%                    0.565158               1.0               0.024477  \n",
       "50%                    0.565252               1.0               0.033798  \n",
       "75%                    0.565725               1.0               0.052838  \n",
       "max                    1.000000               1.0               1.000000  \n",
       "\n",
       "[8 rows x 95 columns]"
      ]
     },
     "execution_count": 5,
     "metadata": {},
     "output_type": "execute_result"
    }
   ],
   "source": [
    "#descriptive statisitcs\n",
    "data.describe()"
   ]
  },
  {
   "cell_type": "code",
   "execution_count": 6,
   "id": "0210d66c",
   "metadata": {},
   "outputs": [
    {
     "data": {
      "text/html": [
       "<div>\n",
       "<style scoped>\n",
       "    .dataframe tbody tr th:only-of-type {\n",
       "        vertical-align: middle;\n",
       "    }\n",
       "\n",
       "    .dataframe tbody tr th {\n",
       "        vertical-align: top;\n",
       "    }\n",
       "\n",
       "    .dataframe thead th {\n",
       "        text-align: right;\n",
       "    }\n",
       "</style>\n",
       "<table border=\"1\" class=\"dataframe\">\n",
       "  <thead>\n",
       "    <tr style=\"text-align: right;\">\n",
       "      <th></th>\n",
       "      <th>index</th>\n",
       "      <th>Bankrupt</th>\n",
       "    </tr>\n",
       "  </thead>\n",
       "  <tbody>\n",
       "    <tr>\n",
       "      <th>0</th>\n",
       "      <td>Company_id</td>\n",
       "      <td>-0.095645</td>\n",
       "    </tr>\n",
       "    <tr>\n",
       "      <th>1</th>\n",
       "      <td>Bankrupt</td>\n",
       "      <td>1.000000</td>\n",
       "    </tr>\n",
       "    <tr>\n",
       "      <th>2</th>\n",
       "      <td>ROA_before_interest_and_depreciation_before_i...</td>\n",
       "      <td>-0.260807</td>\n",
       "    </tr>\n",
       "    <tr>\n",
       "      <th>3</th>\n",
       "      <td>ROA_before_interest_and_%_after_tax</td>\n",
       "      <td>-0.282941</td>\n",
       "    </tr>\n",
       "    <tr>\n",
       "      <th>4</th>\n",
       "      <td>ROA_before_interest_and_depreciation_after_ tax</td>\n",
       "      <td>-0.273051</td>\n",
       "    </tr>\n",
       "    <tr>\n",
       "      <th>...</th>\n",
       "      <td>...</td>\n",
       "      <td>...</td>\n",
       "    </tr>\n",
       "    <tr>\n",
       "      <th>90</th>\n",
       "      <td>Liability_ to_Equity</td>\n",
       "      <td>0.166812</td>\n",
       "    </tr>\n",
       "    <tr>\n",
       "      <th>91</th>\n",
       "      <td>Degree_of_Financial_Leverage</td>\n",
       "      <td>0.010508</td>\n",
       "    </tr>\n",
       "    <tr>\n",
       "      <th>92</th>\n",
       "      <td>Interest_Coverage_Ratio</td>\n",
       "      <td>-0.005509</td>\n",
       "    </tr>\n",
       "    <tr>\n",
       "      <th>93</th>\n",
       "      <td>Net_Income_Flag</td>\n",
       "      <td>NaN</td>\n",
       "    </tr>\n",
       "    <tr>\n",
       "      <th>94</th>\n",
       "      <td>Equity _to_Liability</td>\n",
       "      <td>-0.083048</td>\n",
       "    </tr>\n",
       "  </tbody>\n",
       "</table>\n",
       "<p>95 rows × 2 columns</p>\n",
       "</div>"
      ],
      "text/plain": [
       "                                                index  Bankrupt\n",
       "0                                          Company_id -0.095645\n",
       "1                                            Bankrupt  1.000000\n",
       "2    ROA_before_interest_and_depreciation_before_i... -0.260807\n",
       "3                 ROA_before_interest_and_%_after_tax -0.282941\n",
       "4     ROA_before_interest_and_depreciation_after_ tax -0.273051\n",
       "..                                                ...       ...\n",
       "90                               Liability_ to_Equity  0.166812\n",
       "91                       Degree_of_Financial_Leverage  0.010508\n",
       "92                            Interest_Coverage_Ratio -0.005509\n",
       "93                                    Net_Income_Flag       NaN\n",
       "94                               Equity _to_Liability -0.083048\n",
       "\n",
       "[95 rows x 2 columns]"
      ]
     },
     "execution_count": 6,
     "metadata": {},
     "output_type": "execute_result"
    }
   ],
   "source": [
    "#correlation\n",
    "correlation=data.corr()\n",
    "cor=correlation.Bankrupt.reset_index()\n",
    "cor"
   ]
  },
  {
   "cell_type": "code",
   "execution_count": 7,
   "id": "15f9ee3f",
   "metadata": {},
   "outputs": [
    {
     "data": {
      "text/plain": [
       "Text(0.5, 1.0, 'Number of Companies Bankrupt')"
      ]
     },
     "execution_count": 7,
     "metadata": {},
     "output_type": "execute_result"
    },
    {
     "data": {
      "image/png": "[encoded data removed]",
      "text/plain": [
       "<Figure size 640x480 with 1 Axes>"
      ]
     },
     "metadata": {},
     "output_type": "display_data"
    }
   ],
   "source": [
    "#Number of Companies Bankrupt\n",
    "import matplotlib.pyplot as plt\n",
    "sns.countplot(x='Bankrupt',data=data)\n",
    "plt.xlabel('Bankrupt')\n",
    "plt.ylabel('Number of Companies Bankrupt')\n",
    "plt.title('Number of Companies Bankrupt')"
   ]
  },
  {
   "cell_type": "markdown",
   "id": "17998605",
   "metadata": {},
   "source": [
    "## DATA PREPROCESSING"
   ]
  },
  {
   "cell_type": "markdown",
   "id": "a18bd826",
   "metadata": {},
   "source": [
    "From the above countplot, it is visible that there is a huge class imbalance.Bankrupt=1 class is significantly underrepresented compared to the other class.SMOTE (Synthetic Minority Over-sampling Technique) is applied to address the class imbalance problem in the dataset."
   ]
  },
  {
   "cell_type": "code",
   "execution_count": 8,
   "id": "5758b4dd",
   "metadata": {},
   "outputs": [],
   "source": [
    "from imblearn.over_sampling import SMOTE\n",
    "X_resampled, y_resampled = SMOTE().fit_resample(data.drop('Bankrupt',axis=1),data['Bankrupt'])"
   ]
  },
  {
   "cell_type": "code",
   "execution_count": 9,
   "id": "06e9f579",
   "metadata": {},
   "outputs": [
    {
     "data": {
      "text/plain": [
       "Bankrupt\n",
       "1    6599\n",
       "0    6599\n",
       "Name: count, dtype: int64"
      ]
     },
     "execution_count": 9,
     "metadata": {},
     "output_type": "execute_result"
    }
   ],
   "source": [
    "y_resampled.value_counts()"
   ]
  },
  {
   "cell_type": "markdown",
   "id": "4bf52d28",
   "metadata": {},
   "source": [
    "There are 94 features explaining the target variable(Bankruptcy). Thus,PCA (Principal Component Analysis) is a dimensionality reduction technique is used to transform a high-dimensional dataset into a lower-dimensional space.The focusis on to retain 90% of features explaning the target variable. "
   ]
  },
  {
   "cell_type": "code",
   "execution_count": 10,
   "id": "6bee97e8",
   "metadata": {},
   "outputs": [],
   "source": [
    "from sklearn.decomposition import PCA\n",
    "from sklearn.preprocessing import StandardScaler"
   ]
  },
  {
   "cell_type": "markdown",
   "id": "5ff338c6",
   "metadata": {},
   "source": [
    "Before PCA is executed, it is necessary to preprocess the data using Standard Scaler. StandardScaler rescales the features to have a mean of 0 and a standard deviation of 1, making them comparable and ensuring that PCA is not biased towards features with larger scales."
   ]
  },
  {
   "cell_type": "code",
   "execution_count": 11,
   "id": "1da8ea18",
   "metadata": {},
   "outputs": [],
   "source": [
    "scaler=StandardScaler()\n",
    "scaled_features=scaler.fit_transform(X_resampled)"
   ]
  },
  {
   "cell_type": "code",
   "execution_count": 12,
   "id": "cc6e1242",
   "metadata": {},
   "outputs": [
    {
     "data": {
      "text/plain": [
       "(13198, 45)"
      ]
     },
     "execution_count": 12,
     "metadata": {},
     "output_type": "execute_result"
    }
   ],
   "source": [
    "pca=PCA(0.9)\n",
    "x=pca.fit_transform(scaled_features)\n",
    "x.shape"
   ]
  },
  {
   "cell_type": "code",
   "execution_count": 13,
   "id": "b318e801",
   "metadata": {},
   "outputs": [
    {
     "data": {
      "text/plain": [
       "array([0.15279139, 0.07305647, 0.05000644, 0.04276749, 0.04052249,\n",
       "       0.03151056, 0.03034551, 0.02819383, 0.02678048, 0.0246973 ,\n",
       "       0.02076637, 0.01854417, 0.01777822, 0.01593508, 0.01551928,\n",
       "       0.01515145, 0.01426695, 0.01363067, 0.01286175, 0.01250204,\n",
       "       0.0121347 , 0.0118819 , 0.01179194, 0.01157566, 0.01122537,\n",
       "       0.01105367, 0.01090158, 0.01078287, 0.0107468 , 0.01071405,\n",
       "       0.01047361, 0.01036741, 0.0102054 , 0.01001648, 0.00995613,\n",
       "       0.00958684, 0.00945432, 0.00898381, 0.00870337, 0.00851531,\n",
       "       0.00838359, 0.00826477, 0.00808541, 0.00765673, 0.007181  ])"
      ]
     },
     "execution_count": 13,
     "metadata": {},
     "output_type": "execute_result"
    }
   ],
   "source": [
    "pca.explained_variance_ratio_"
   ]
  },
  {
   "cell_type": "markdown",
   "id": "ab0685ae",
   "metadata": {},
   "source": [
    "## DATA PARTIONING"
   ]
  },
  {
   "cell_type": "code",
   "execution_count": 14,
   "id": "bbf1779d",
   "metadata": {},
   "outputs": [],
   "source": [
    "from sklearn.model_selection import train_test_split\n",
    "from sklearn.metrics import accuracy_score\n",
    "from sklearn.metrics import confusion_matrix\n",
    "from sklearn.metrics import classification_report"
   ]
  },
  {
   "cell_type": "code",
   "execution_count": 15,
   "id": "cbfecaaf",
   "metadata": {},
   "outputs": [],
   "source": [
    "x_train,x_test,y_train,y_test=train_test_split(x,y_resampled,test_size=0.3,random_state=42)"
   ]
  },
  {
   "cell_type": "code",
   "execution_count": 16,
   "id": "d4ca30bc",
   "metadata": {},
   "outputs": [
    {
     "data": {
      "text/plain": [
       "(9238, 3960)"
      ]
     },
     "execution_count": 16,
     "metadata": {},
     "output_type": "execute_result"
    }
   ],
   "source": [
    "len(x_train),len(x_test)"
   ]
  },
  {
   "cell_type": "markdown",
   "id": "37120b36",
   "metadata": {},
   "source": [
    "## ML MODEL"
   ]
  },
  {
   "cell_type": "markdown",
   "id": "fb2bfb69",
   "metadata": {},
   "source": [
    "The following ML models are used:\n",
    "\n",
    "Logistic Regression\n",
    "\n",
    "Decision Tree Classifier\n",
    "\n",
    "Random Forest Classifier\n",
    "\n",
    "XGB Classifier\n",
    "\n",
    "Support Vector Classifier\n",
    "\n",
    "Neural Network Classifier"
   ]
  },
  {
   "cell_type": "markdown",
   "id": "d73d9a31",
   "metadata": {},
   "source": [
    "## LOGISTIC REGRESSION"
   ]
  },
  {
   "cell_type": "code",
   "execution_count": 17,
   "id": "c396ab43",
   "metadata": {},
   "outputs": [
    {
     "name": "stderr",
     "output_type": "stream",
     "text": [
      "C:\\Users\\HP\\AppData\\Local\\Programs\\Python\\Python311\\Lib\\site-packages\\sklearn\\linear_model\\_logistic.py:458: ConvergenceWarning: lbfgs failed to converge (status=1):\n",
      "STOP: TOTAL NO. of ITERATIONS REACHED LIMIT.\n",
      "\n",
      "Increase the number of iterations (max_iter) or scale the data as shown in:\n",
      "    https://scikit-learn.org/stable/modules/preprocessing.html\n",
      "Please also refer to the documentation for alternative solver options:\n",
      "    https://scikit-learn.org/stable/modules/linear_model.html#logistic-regression\n",
      "  n_iter_i = _check_optimize_result(\n"
     ]
    },
    {
     "data": {
      "text/html": [
       "<style>#sk-container-id-1 {color: black;background-color: white;}#sk-container-id-1 pre{padding: 0;}#sk-container-id-1 div.sk-toggleable {background-color: white;}#sk-container-id-1 label.sk-toggleable__label {cursor: pointer;display: block;width: 100%;margin-bottom: 0;padding: 0.3em;box-sizing: border-box;text-align: center;}#sk-container-id-1 label.sk-toggleable__label-arrow:before {content: \"▸\";float: left;margin-right: 0.25em;color: #696969;}#sk-container-id-1 label.sk-toggleable__label-arrow:hover:before {color: black;}#sk-container-id-1 div.sk-estimator:hover label.sk-toggleable__label-arrow:before {color: black;}#sk-container-id-1 div.sk-toggleable__content {max-height: 0;max-width: 0;overflow: hidden;text-align: left;background-color: #f0f8ff;}#sk-container-id-1 div.sk-toggleable__content pre {margin: 0.2em;color: black;border-radius: 0.25em;background-color: #f0f8ff;}#sk-container-id-1 input.sk-toggleable__control:checked~div.sk-toggleable__content {max-height: 200px;max-width: 100%;overflow: auto;}#sk-container-id-1 input.sk-toggleable__control:checked~label.sk-toggleable__label-arrow:before {content: \"▾\";}#sk-container-id-1 div.sk-estimator input.sk-toggleable__control:checked~label.sk-toggleable__label {background-color: #d4ebff;}#sk-container-id-1 div.sk-label input.sk-toggleable__control:checked~label.sk-toggleable__label {background-color: #d4ebff;}#sk-container-id-1 input.sk-hidden--visually {border: 0;clip: rect(1px 1px 1px 1px);clip: rect(1px, 1px, 1px, 1px);height: 1px;margin: -1px;overflow: hidden;padding: 0;position: absolute;width: 1px;}#sk-container-id-1 div.sk-estimator {font-family: monospace;background-color: #f0f8ff;border: 1px dotted black;border-radius: 0.25em;box-sizing: border-box;margin-bottom: 0.5em;}#sk-container-id-1 div.sk-estimator:hover {background-color: #d4ebff;}#sk-container-id-1 div.sk-parallel-item::after {content: \"\";width: 100%;border-bottom: 1px solid gray;flex-grow: 1;}#sk-container-id-1 div.sk-label:hover label.sk-toggleable__label {background-color: #d4ebff;}#sk-container-id-1 div.sk-serial::before {content: \"\";position: absolute;border-left: 1px solid gray;box-sizing: border-box;top: 0;bottom: 0;left: 50%;z-index: 0;}#sk-container-id-1 div.sk-serial {display: flex;flex-direction: column;align-items: center;background-color: white;padding-right: 0.2em;padding-left: 0.2em;position: relative;}#sk-container-id-1 div.sk-item {position: relative;z-index: 1;}#sk-container-id-1 div.sk-parallel {display: flex;align-items: stretch;justify-content: center;background-color: white;position: relative;}#sk-container-id-1 div.sk-item::before, #sk-container-id-1 div.sk-parallel-item::before {content: \"\";position: absolute;border-left: 1px solid gray;box-sizing: border-box;top: 0;bottom: 0;left: 50%;z-index: -1;}#sk-container-id-1 div.sk-parallel-item {display: flex;flex-direction: column;z-index: 1;position: relative;background-color: white;}#sk-container-id-1 div.sk-parallel-item:first-child::after {align-self: flex-end;width: 50%;}#sk-container-id-1 div.sk-parallel-item:last-child::after {align-self: flex-start;width: 50%;}#sk-container-id-1 div.sk-parallel-item:only-child::after {width: 0;}#sk-container-id-1 div.sk-dashed-wrapped {border: 1px dashed gray;margin: 0 0.4em 0.5em 0.4em;box-sizing: border-box;padding-bottom: 0.4em;background-color: white;}#sk-container-id-1 div.sk-label label {font-family: monospace;font-weight: bold;display: inline-block;line-height: 1.2em;}#sk-container-id-1 div.sk-label-container {text-align: center;}#sk-container-id-1 div.sk-container {/* jupyter's `normalize.less` sets `[hidden] { display: none; }` but bootstrap.min.css set `[hidden] { display: none !important; }` so we also need the `!important` here to be able to override the default hidden behavior on the sphinx rendered scikit-learn.org. See: https://github.com/scikit-learn/scikit-learn/issues/21755 */display: inline-block !important;position: relative;}#sk-container-id-1 div.sk-text-repr-fallback {display: none;}</style><div id=\"sk-container-id-1\" class=\"sk-top-container\"><div class=\"sk-text-repr-fallback\"><pre>LogisticRegression()</pre><b>In a Jupyter environment, please rerun this cell to show the HTML representation or trust the notebook. <br />On GitHub, the HTML representation is unable to render, please try loading this page with nbviewer.org.</b></div><div class=\"sk-container\" hidden><div class=\"sk-item\"><div class=\"sk-estimator sk-toggleable\"><input class=\"sk-toggleable__control sk-hidden--visually\" id=\"sk-estimator-id-1\" type=\"checkbox\" checked><label for=\"sk-estimator-id-1\" class=\"sk-toggleable__label sk-toggleable__label-arrow\">LogisticRegression</label><div class=\"sk-toggleable__content\"><pre>LogisticRegression()</pre></div></div></div></div></div>"
      ],
      "text/plain": [
       "LogisticRegression()"
      ]
     },
     "execution_count": 17,
     "metadata": {},
     "output_type": "execute_result"
    }
   ],
   "source": [
    "from sklearn.linear_model import LogisticRegression\n",
    "reg=LogisticRegression()\n",
    "reg.fit(x_train,y_train)"
   ]
  },
  {
   "cell_type": "code",
   "execution_count": 18,
   "id": "d39852bf",
   "metadata": {},
   "outputs": [
    {
     "data": {
      "text/plain": [
       "0.8904040404040404"
      ]
     },
     "execution_count": 18,
     "metadata": {},
     "output_type": "execute_result"
    }
   ],
   "source": [
    "reg_score=accuracy_score(y_test,reg.predict(x_test))\n",
    "reg_score"
   ]
  },
  {
   "cell_type": "code",
   "execution_count": 19,
   "id": "dc123d35",
   "metadata": {},
   "outputs": [
    {
     "name": "stdout",
     "output_type": "stream",
     "text": [
      "[[1759  246]\n",
      " [ 188 1767]]\n"
     ]
    },
    {
     "data": {
      "text/plain": [
       "<Axes: >"
      ]
     },
     "execution_count": 19,
     "metadata": {},
     "output_type": "execute_result"
    },
    {
     "data": {
      "image/png": "[encoded data removed]",
      "text/plain": [
       "<Figure size 640x480 with 2 Axes>"
      ]
     },
     "metadata": {},
     "output_type": "display_data"
    }
   ],
   "source": [
    "matrix=confusion_matrix(y_test,reg.predict(x_test))\n",
    "print(matrix)\n",
    "\n",
    "sns.heatmap(matrix,annot=True)"
   ]
  },
  {
   "cell_type": "code",
   "execution_count": 20,
   "id": "465e80b7",
   "metadata": {},
   "outputs": [
    {
     "name": "stdout",
     "output_type": "stream",
     "text": [
      "              precision    recall  f1-score   support\n",
      "\n",
      "           0       0.90      0.88      0.89      2005\n",
      "           1       0.88      0.90      0.89      1955\n",
      "\n",
      "    accuracy                           0.89      3960\n",
      "   macro avg       0.89      0.89      0.89      3960\n",
      "weighted avg       0.89      0.89      0.89      3960\n",
      "\n"
     ]
    }
   ],
   "source": [
    "report=classification_report(y_test,reg.predict(x_test))\n",
    "print(report)"
   ]
  },
  {
   "cell_type": "markdown",
   "id": "26e49600",
   "metadata": {},
   "source": [
    "## DECISION TREE"
   ]
  },
  {
   "cell_type": "code",
   "execution_count": 21,
   "id": "1f73bb52",
   "metadata": {},
   "outputs": [
    {
     "data": {
      "text/html": [
       "<style>#sk-container-id-2 {color: black;background-color: white;}#sk-container-id-2 pre{padding: 0;}#sk-container-id-2 div.sk-toggleable {background-color: white;}#sk-container-id-2 label.sk-toggleable__label {cursor: pointer;display: block;width: 100%;margin-bottom: 0;padding: 0.3em;box-sizing: border-box;text-align: center;}#sk-container-id-2 label.sk-toggleable__label-arrow:before {content: \"▸\";float: left;margin-right: 0.25em;color: #696969;}#sk-container-id-2 label.sk-toggleable__label-arrow:hover:before {color: black;}#sk-container-id-2 div.sk-estimator:hover label.sk-toggleable__label-arrow:before {color: black;}#sk-container-id-2 div.sk-toggleable__content {max-height: 0;max-width: 0;overflow: hidden;text-align: left;background-color: #f0f8ff;}#sk-container-id-2 div.sk-toggleable__content pre {margin: 0.2em;color: black;border-radius: 0.25em;background-color: #f0f8ff;}#sk-container-id-2 input.sk-toggleable__control:checked~div.sk-toggleable__content {max-height: 200px;max-width: 100%;overflow: auto;}#sk-container-id-2 input.sk-toggleable__control:checked~label.sk-toggleable__label-arrow:before {content: \"▾\";}#sk-container-id-2 div.sk-estimator input.sk-toggleable__control:checked~label.sk-toggleable__label {background-color: #d4ebff;}#sk-container-id-2 div.sk-label input.sk-toggleable__control:checked~label.sk-toggleable__label {background-color: #d4ebff;}#sk-container-id-2 input.sk-hidden--visually {border: 0;clip: rect(1px 1px 1px 1px);clip: rect(1px, 1px, 1px, 1px);height: 1px;margin: -1px;overflow: hidden;padding: 0;position: absolute;width: 1px;}#sk-container-id-2 div.sk-estimator {font-family: monospace;background-color: #f0f8ff;border: 1px dotted black;border-radius: 0.25em;box-sizing: border-box;margin-bottom: 0.5em;}#sk-container-id-2 div.sk-estimator:hover {background-color: #d4ebff;}#sk-container-id-2 div.sk-parallel-item::after {content: \"\";width: 100%;border-bottom: 1px solid gray;flex-grow: 1;}#sk-container-id-2 div.sk-label:hover label.sk-toggleable__label {background-color: #d4ebff;}#sk-container-id-2 div.sk-serial::before {content: \"\";position: absolute;border-left: 1px solid gray;box-sizing: border-box;top: 0;bottom: 0;left: 50%;z-index: 0;}#sk-container-id-2 div.sk-serial {display: flex;flex-direction: column;align-items: center;background-color: white;padding-right: 0.2em;padding-left: 0.2em;position: relative;}#sk-container-id-2 div.sk-item {position: relative;z-index: 1;}#sk-container-id-2 div.sk-parallel {display: flex;align-items: stretch;justify-content: center;background-color: white;position: relative;}#sk-container-id-2 div.sk-item::before, #sk-container-id-2 div.sk-parallel-item::before {content: \"\";position: absolute;border-left: 1px solid gray;box-sizing: border-box;top: 0;bottom: 0;left: 50%;z-index: -1;}#sk-container-id-2 div.sk-parallel-item {display: flex;flex-direction: column;z-index: 1;position: relative;background-color: white;}#sk-container-id-2 div.sk-parallel-item:first-child::after {align-self: flex-end;width: 50%;}#sk-container-id-2 div.sk-parallel-item:last-child::after {align-self: flex-start;width: 50%;}#sk-container-id-2 div.sk-parallel-item:only-child::after {width: 0;}#sk-container-id-2 div.sk-dashed-wrapped {border: 1px dashed gray;margin: 0 0.4em 0.5em 0.4em;box-sizing: border-box;padding-bottom: 0.4em;background-color: white;}#sk-container-id-2 div.sk-label label {font-family: monospace;font-weight: bold;display: inline-block;line-height: 1.2em;}#sk-container-id-2 div.sk-label-container {text-align: center;}#sk-container-id-2 div.sk-container {/* jupyter's `normalize.less` sets `[hidden] { display: none; }` but bootstrap.min.css set `[hidden] { display: none !important; }` so we also need the `!important` here to be able to override the default hidden behavior on the sphinx rendered scikit-learn.org. See: https://github.com/scikit-learn/scikit-learn/issues/21755 */display: inline-block !important;position: relative;}#sk-container-id-2 div.sk-text-repr-fallback {display: none;}</style><div id=\"sk-container-id-2\" class=\"sk-top-container\"><div class=\"sk-text-repr-fallback\"><pre>DecisionTreeClassifier()</pre><b>In a Jupyter environment, please rerun this cell to show the HTML representation or trust the notebook. <br />On GitHub, the HTML representation is unable to render, please try loading this page with nbviewer.org.</b></div><div class=\"sk-container\" hidden><div class=\"sk-item\"><div class=\"sk-estimator sk-toggleable\"><input class=\"sk-toggleable__control sk-hidden--visually\" id=\"sk-estimator-id-2\" type=\"checkbox\" checked><label for=\"sk-estimator-id-2\" class=\"sk-toggleable__label sk-toggleable__label-arrow\">DecisionTreeClassifier</label><div class=\"sk-toggleable__content\"><pre>DecisionTreeClassifier()</pre></div></div></div></div></div>"
      ],
      "text/plain": [
       "DecisionTreeClassifier()"
      ]
     },
     "execution_count": 21,
     "metadata": {},
     "output_type": "execute_result"
    }
   ],
   "source": [
    "from sklearn.tree import DecisionTreeClassifier\n",
    "tree=DecisionTreeClassifier()\n",
    "tree.fit(x_train,y_train)"
   ]
  },
  {
   "cell_type": "code",
   "execution_count": 22,
   "id": "95a10d22",
   "metadata": {},
   "outputs": [
    {
     "data": {
      "text/plain": [
       "0.9318181818181818"
      ]
     },
     "execution_count": 22,
     "metadata": {},
     "output_type": "execute_result"
    }
   ],
   "source": [
    "tree_score=accuracy_score(y_test,tree.predict(x_test))\n",
    "tree_score"
   ]
  },
  {
   "cell_type": "code",
   "execution_count": 23,
   "id": "6b5d1718",
   "metadata": {},
   "outputs": [
    {
     "name": "stdout",
     "output_type": "stream",
     "text": [
      "[[1824  181]\n",
      " [  89 1866]]\n"
     ]
    },
    {
     "data": {
      "text/plain": [
       "<Axes: >"
      ]
     },
     "execution_count": 23,
     "metadata": {},
     "output_type": "execute_result"
    },
    {
     "data": {
      "image/png": "[encoded data removed]",
      "text/plain": [
       "<Figure size 640x480 with 2 Axes>"
      ]
     },
     "metadata": {},
     "output_type": "display_data"
    }
   ],
   "source": [
    "matrix=confusion_matrix(y_test,tree.predict(x_test))\n",
    "print(matrix)\n",
    "\n",
    "sns.heatmap(matrix,annot=True)"
   ]
  },
  {
   "cell_type": "code",
   "execution_count": 24,
   "id": "2a9e4443",
   "metadata": {},
   "outputs": [
    {
     "name": "stdout",
     "output_type": "stream",
     "text": [
      "              precision    recall  f1-score   support\n",
      "\n",
      "           0       0.95      0.91      0.93      2005\n",
      "           1       0.91      0.95      0.93      1955\n",
      "\n",
      "    accuracy                           0.93      3960\n",
      "   macro avg       0.93      0.93      0.93      3960\n",
      "weighted avg       0.93      0.93      0.93      3960\n",
      "\n"
     ]
    }
   ],
   "source": [
    "report=classification_report(y_test,tree.predict(x_test))\n",
    "print(report)"
   ]
  },
  {
   "cell_type": "markdown",
   "id": "4f921979",
   "metadata": {},
   "source": [
    "## RANDOM FOREST"
   ]
  },
  {
   "cell_type": "code",
   "execution_count": 25,
   "id": "bad930af",
   "metadata": {},
   "outputs": [
    {
     "data": {
      "text/html": [
       "<style>#sk-container-id-3 {color: black;background-color: white;}#sk-container-id-3 pre{padding: 0;}#sk-container-id-3 div.sk-toggleable {background-color: white;}#sk-container-id-3 label.sk-toggleable__label {cursor: pointer;display: block;width: 100%;margin-bottom: 0;padding: 0.3em;box-sizing: border-box;text-align: center;}#sk-container-id-3 label.sk-toggleable__label-arrow:before {content: \"▸\";float: left;margin-right: 0.25em;color: #696969;}#sk-container-id-3 label.sk-toggleable__label-arrow:hover:before {color: black;}#sk-container-id-3 div.sk-estimator:hover label.sk-toggleable__label-arrow:before {color: black;}#sk-container-id-3 div.sk-toggleable__content {max-height: 0;max-width: 0;overflow: hidden;text-align: left;background-color: #f0f8ff;}#sk-container-id-3 div.sk-toggleable__content pre {margin: 0.2em;color: black;border-radius: 0.25em;background-color: #f0f8ff;}#sk-container-id-3 input.sk-toggleable__control:checked~div.sk-toggleable__content {max-height: 200px;max-width: 100%;overflow: auto;}#sk-container-id-3 input.sk-toggleable__control:checked~label.sk-toggleable__label-arrow:before {content: \"▾\";}#sk-container-id-3 div.sk-estimator input.sk-toggleable__control:checked~label.sk-toggleable__label {background-color: #d4ebff;}#sk-container-id-3 div.sk-label input.sk-toggleable__control:checked~label.sk-toggleable__label {background-color: #d4ebff;}#sk-container-id-3 input.sk-hidden--visually {border: 0;clip: rect(1px 1px 1px 1px);clip: rect(1px, 1px, 1px, 1px);height: 1px;margin: -1px;overflow: hidden;padding: 0;position: absolute;width: 1px;}#sk-container-id-3 div.sk-estimator {font-family: monospace;background-color: #f0f8ff;border: 1px dotted black;border-radius: 0.25em;box-sizing: border-box;margin-bottom: 0.5em;}#sk-container-id-3 div.sk-estimator:hover {background-color: #d4ebff;}#sk-container-id-3 div.sk-parallel-item::after {content: \"\";width: 100%;border-bottom: 1px solid gray;flex-grow: 1;}#sk-container-id-3 div.sk-label:hover label.sk-toggleable__label {background-color: #d4ebff;}#sk-container-id-3 div.sk-serial::before {content: \"\";position: absolute;border-left: 1px solid gray;box-sizing: border-box;top: 0;bottom: 0;left: 50%;z-index: 0;}#sk-container-id-3 div.sk-serial {display: flex;flex-direction: column;align-items: center;background-color: white;padding-right: 0.2em;padding-left: 0.2em;position: relative;}#sk-container-id-3 div.sk-item {position: relative;z-index: 1;}#sk-container-id-3 div.sk-parallel {display: flex;align-items: stretch;justify-content: center;background-color: white;position: relative;}#sk-container-id-3 div.sk-item::before, #sk-container-id-3 div.sk-parallel-item::before {content: \"\";position: absolute;border-left: 1px solid gray;box-sizing: border-box;top: 0;bottom: 0;left: 50%;z-index: -1;}#sk-container-id-3 div.sk-parallel-item {display: flex;flex-direction: column;z-index: 1;position: relative;background-color: white;}#sk-container-id-3 div.sk-parallel-item:first-child::after {align-self: flex-end;width: 50%;}#sk-container-id-3 div.sk-parallel-item:last-child::after {align-self: flex-start;width: 50%;}#sk-container-id-3 div.sk-parallel-item:only-child::after {width: 0;}#sk-container-id-3 div.sk-dashed-wrapped {border: 1px dashed gray;margin: 0 0.4em 0.5em 0.4em;box-sizing: border-box;padding-bottom: 0.4em;background-color: white;}#sk-container-id-3 div.sk-label label {font-family: monospace;font-weight: bold;display: inline-block;line-height: 1.2em;}#sk-container-id-3 div.sk-label-container {text-align: center;}#sk-container-id-3 div.sk-container {/* jupyter's `normalize.less` sets `[hidden] { display: none; }` but bootstrap.min.css set `[hidden] { display: none !important; }` so we also need the `!important` here to be able to override the default hidden behavior on the sphinx rendered scikit-learn.org. See: https://github.com/scikit-learn/scikit-learn/issues/21755 */display: inline-block !important;position: relative;}#sk-container-id-3 div.sk-text-repr-fallback {display: none;}</style><div id=\"sk-container-id-3\" class=\"sk-top-container\"><div class=\"sk-text-repr-fallback\"><pre>RandomForestClassifier(n_estimators=50)</pre><b>In a Jupyter environment, please rerun this cell to show the HTML representation or trust the notebook. <br />On GitHub, the HTML representation is unable to render, please try loading this page with nbviewer.org.</b></div><div class=\"sk-container\" hidden><div class=\"sk-item\"><div class=\"sk-estimator sk-toggleable\"><input class=\"sk-toggleable__control sk-hidden--visually\" id=\"sk-estimator-id-3\" type=\"checkbox\" checked><label for=\"sk-estimator-id-3\" class=\"sk-toggleable__label sk-toggleable__label-arrow\">RandomForestClassifier</label><div class=\"sk-toggleable__content\"><pre>RandomForestClassifier(n_estimators=50)</pre></div></div></div></div></div>"
      ],
      "text/plain": [
       "RandomForestClassifier(n_estimators=50)"
      ]
     },
     "execution_count": 25,
     "metadata": {},
     "output_type": "execute_result"
    }
   ],
   "source": [
    "from sklearn.ensemble import RandomForestClassifier\n",
    "rf=RandomForestClassifier(50)\n",
    "rf.fit(x_train,y_train)"
   ]
  },
  {
   "cell_type": "code",
   "execution_count": 26,
   "id": "ad531a2e",
   "metadata": {},
   "outputs": [
    {
     "data": {
      "text/plain": [
       "0.9752525252525253"
      ]
     },
     "execution_count": 26,
     "metadata": {},
     "output_type": "execute_result"
    }
   ],
   "source": [
    "rf_score=accuracy_score(y_test,rf.predict(x_test))\n",
    "rf_score"
   ]
  },
  {
   "cell_type": "code",
   "execution_count": 27,
   "id": "2fe2aac4",
   "metadata": {},
   "outputs": [
    {
     "name": "stdout",
     "output_type": "stream",
     "text": [
      "[[1919   86]\n",
      " [  12 1943]]\n"
     ]
    },
    {
     "data": {
      "text/plain": [
       "<Axes: >"
      ]
     },
     "execution_count": 27,
     "metadata": {},
     "output_type": "execute_result"
    },
    {
     "data": {
      "image/png": "[encoded data removed]",
      "text/plain": [
       "<Figure size 640x480 with 2 Axes>"
      ]
     },
     "metadata": {},
     "output_type": "display_data"
    }
   ],
   "source": [
    "matrix=confusion_matrix(y_test,rf.predict(x_test))\n",
    "print(matrix)\n",
    "\n",
    "sns.heatmap(matrix,annot=True)"
   ]
  },
  {
   "cell_type": "code",
   "execution_count": 28,
   "id": "7e9e7c96",
   "metadata": {},
   "outputs": [
    {
     "name": "stdout",
     "output_type": "stream",
     "text": [
      "              precision    recall  f1-score   support\n",
      "\n",
      "           0       0.99      0.96      0.98      2005\n",
      "           1       0.96      0.99      0.98      1955\n",
      "\n",
      "    accuracy                           0.98      3960\n",
      "   macro avg       0.98      0.98      0.98      3960\n",
      "weighted avg       0.98      0.98      0.98      3960\n",
      "\n"
     ]
    }
   ],
   "source": [
    "report=classification_report(y_test,rf.predict(x_test))\n",
    "print(report)"
   ]
  },
  {
   "cell_type": "markdown",
   "id": "9d5c8cff",
   "metadata": {},
   "source": [
    "## XGB CLASSIFIER"
   ]
  },
  {
   "cell_type": "code",
   "execution_count": 29,
   "id": "7e620c8b",
   "metadata": {},
   "outputs": [
    {
     "data": {
      "text/html": [
       "<style>#sk-container-id-4 {color: black;background-color: white;}#sk-container-id-4 pre{padding: 0;}#sk-container-id-4 div.sk-toggleable {background-color: white;}#sk-container-id-4 label.sk-toggleable__label {cursor: pointer;display: block;width: 100%;margin-bottom: 0;padding: 0.3em;box-sizing: border-box;text-align: center;}#sk-container-id-4 label.sk-toggleable__label-arrow:before {content: \"▸\";float: left;margin-right: 0.25em;color: #696969;}#sk-container-id-4 label.sk-toggleable__label-arrow:hover:before {color: black;}#sk-container-id-4 div.sk-estimator:hover label.sk-toggleable__label-arrow:before {color: black;}#sk-container-id-4 div.sk-toggleable__content {max-height: 0;max-width: 0;overflow: hidden;text-align: left;background-color: #f0f8ff;}#sk-container-id-4 div.sk-toggleable__content pre {margin: 0.2em;color: black;border-radius: 0.25em;background-color: #f0f8ff;}#sk-container-id-4 input.sk-toggleable__control:checked~div.sk-toggleable__content {max-height: 200px;max-width: 100%;overflow: auto;}#sk-container-id-4 input.sk-toggleable__control:checked~label.sk-toggleable__label-arrow:before {content: \"▾\";}#sk-container-id-4 div.sk-estimator input.sk-toggleable__control:checked~label.sk-toggleable__label {background-color: #d4ebff;}#sk-container-id-4 div.sk-label input.sk-toggleable__control:checked~label.sk-toggleable__label {background-color: #d4ebff;}#sk-container-id-4 input.sk-hidden--visually {border: 0;clip: rect(1px 1px 1px 1px);clip: rect(1px, 1px, 1px, 1px);height: 1px;margin: -1px;overflow: hidden;padding: 0;position: absolute;width: 1px;}#sk-container-id-4 div.sk-estimator {font-family: monospace;background-color: #f0f8ff;border: 1px dotted black;border-radius: 0.25em;box-sizing: border-box;margin-bottom: 0.5em;}#sk-container-id-4 div.sk-estimator:hover {background-color: #d4ebff;}#sk-container-id-4 div.sk-parallel-item::after {content: \"\";width: 100%;border-bottom: 1px solid gray;flex-grow: 1;}#sk-container-id-4 div.sk-label:hover label.sk-toggleable__label {background-color: #d4ebff;}#sk-container-id-4 div.sk-serial::before {content: \"\";position: absolute;border-left: 1px solid gray;box-sizing: border-box;top: 0;bottom: 0;left: 50%;z-index: 0;}#sk-container-id-4 div.sk-serial {display: flex;flex-direction: column;align-items: center;background-color: white;padding-right: 0.2em;padding-left: 0.2em;position: relative;}#sk-container-id-4 div.sk-item {position: relative;z-index: 1;}#sk-container-id-4 div.sk-parallel {display: flex;align-items: stretch;justify-content: center;background-color: white;position: relative;}#sk-container-id-4 div.sk-item::before, #sk-container-id-4 div.sk-parallel-item::before {content: \"\";position: absolute;border-left: 1px solid gray;box-sizing: border-box;top: 0;bottom: 0;left: 50%;z-index: -1;}#sk-container-id-4 div.sk-parallel-item {display: flex;flex-direction: column;z-index: 1;position: relative;background-color: white;}#sk-container-id-4 div.sk-parallel-item:first-child::after {align-self: flex-end;width: 50%;}#sk-container-id-4 div.sk-parallel-item:last-child::after {align-self: flex-start;width: 50%;}#sk-container-id-4 div.sk-parallel-item:only-child::after {width: 0;}#sk-container-id-4 div.sk-dashed-wrapped {border: 1px dashed gray;margin: 0 0.4em 0.5em 0.4em;box-sizing: border-box;padding-bottom: 0.4em;background-color: white;}#sk-container-id-4 div.sk-label label {font-family: monospace;font-weight: bold;display: inline-block;line-height: 1.2em;}#sk-container-id-4 div.sk-label-container {text-align: center;}#sk-container-id-4 div.sk-container {/* jupyter's `normalize.less` sets `[hidden] { display: none; }` but bootstrap.min.css set `[hidden] { display: none !important; }` so we also need the `!important` here to be able to override the default hidden behavior on the sphinx rendered scikit-learn.org. See: https://github.com/scikit-learn/scikit-learn/issues/21755 */display: inline-block !important;position: relative;}#sk-container-id-4 div.sk-text-repr-fallback {display: none;}</style><div id=\"sk-container-id-4\" class=\"sk-top-container\"><div class=\"sk-text-repr-fallback\"><pre>XGBClassifier(base_score=None, booster=None, callbacks=None,\n",
       "              colsample_bylevel=None, colsample_bynode=None,\n",
       "              colsample_bytree=None, early_stopping_rounds=None,\n",
       "              enable_categorical=False, eval_metric=None, feature_types=None,\n",
       "              gamma=None, gpu_id=None, grow_policy=None, importance_type=None,\n",
       "              interaction_constraints=None, learning_rate=None, max_bin=None,\n",
       "              max_cat_threshold=None, max_cat_to_onehot=None,\n",
       "              max_delta_step=None, max_depth=None, max_leaves=None,\n",
       "              min_child_weight=None, missing=nan, monotone_constraints=None,\n",
       "              n_estimators=100, n_jobs=None, num_parallel_tree=None,\n",
       "              predictor=None, random_state=None, ...)</pre><b>In a Jupyter environment, please rerun this cell to show the HTML representation or trust the notebook. <br />On GitHub, the HTML representation is unable to render, please try loading this page with nbviewer.org.</b></div><div class=\"sk-container\" hidden><div class=\"sk-item\"><div class=\"sk-estimator sk-toggleable\"><input class=\"sk-toggleable__control sk-hidden--visually\" id=\"sk-estimator-id-4\" type=\"checkbox\" checked><label for=\"sk-estimator-id-4\" class=\"sk-toggleable__label sk-toggleable__label-arrow\">XGBClassifier</label><div class=\"sk-toggleable__content\"><pre>XGBClassifier(base_score=None, booster=None, callbacks=None,\n",
       "              colsample_bylevel=None, colsample_bynode=None,\n",
       "              colsample_bytree=None, early_stopping_rounds=None,\n",
       "              enable_categorical=False, eval_metric=None, feature_types=None,\n",
       "              gamma=None, gpu_id=None, grow_policy=None, importance_type=None,\n",
       "              interaction_constraints=None, learning_rate=None, max_bin=None,\n",
       "              max_cat_threshold=None, max_cat_to_onehot=None,\n",
       "              max_delta_step=None, max_depth=None, max_leaves=None,\n",
       "              min_child_weight=None, missing=nan, monotone_constraints=None,\n",
       "              n_estimators=100, n_jobs=None, num_parallel_tree=None,\n",
       "              predictor=None, random_state=None, ...)</pre></div></div></div></div></div>"
      ],
      "text/plain": [
       "XGBClassifier(base_score=None, booster=None, callbacks=None,\n",
       "              colsample_bylevel=None, colsample_bynode=None,\n",
       "              colsample_bytree=None, early_stopping_rounds=None,\n",
       "              enable_categorical=False, eval_metric=None, feature_types=None,\n",
       "              gamma=None, gpu_id=None, grow_policy=None, importance_type=None,\n",
       "              interaction_constraints=None, learning_rate=None, max_bin=None,\n",
       "              max_cat_threshold=None, max_cat_to_onehot=None,\n",
       "              max_delta_step=None, max_depth=None, max_leaves=None,\n",
       "              min_child_weight=None, missing=nan, monotone_constraints=None,\n",
       "              n_estimators=100, n_jobs=None, num_parallel_tree=None,\n",
       "              predictor=None, random_state=None, ...)"
      ]
     },
     "execution_count": 29,
     "metadata": {},
     "output_type": "execute_result"
    }
   ],
   "source": [
    "from xgboost import XGBClassifier\n",
    "xgb=XGBClassifier()\n",
    "xgb.fit(x_train,y_train)"
   ]
  },
  {
   "cell_type": "code",
   "execution_count": 30,
   "id": "268f9a3f",
   "metadata": {},
   "outputs": [
    {
     "data": {
      "text/plain": [
       "0.9787878787878788"
      ]
     },
     "execution_count": 30,
     "metadata": {},
     "output_type": "execute_result"
    }
   ],
   "source": [
    "xgb_score=accuracy_score(y_test,xgb.predict(x_test))\n",
    "xgb_score"
   ]
  },
  {
   "cell_type": "code",
   "execution_count": 31,
   "id": "b51b79c7",
   "metadata": {},
   "outputs": [
    {
     "name": "stdout",
     "output_type": "stream",
     "text": [
      "[[1924   81]\n",
      " [   3 1952]]\n"
     ]
    },
    {
     "data": {
      "text/plain": [
       "<Axes: >"
      ]
     },
     "execution_count": 31,
     "metadata": {},
     "output_type": "execute_result"
    },
    {
     "data": {
      "image/png": "[encoded data removed]",
      "text/plain": [
       "<Figure size 640x480 with 2 Axes>"
      ]
     },
     "metadata": {},
     "output_type": "display_data"
    }
   ],
   "source": [
    "matrix=confusion_matrix(y_test,xgb.predict(x_test))\n",
    "print(matrix)\n",
    "\n",
    "sns.heatmap(matrix,annot=True)"
   ]
  },
  {
   "cell_type": "code",
   "execution_count": 32,
   "id": "6b549b5f",
   "metadata": {},
   "outputs": [
    {
     "name": "stdout",
     "output_type": "stream",
     "text": [
      "              precision    recall  f1-score   support\n",
      "\n",
      "           0       1.00      0.96      0.98      2005\n",
      "           1       0.96      1.00      0.98      1955\n",
      "\n",
      "    accuracy                           0.98      3960\n",
      "   macro avg       0.98      0.98      0.98      3960\n",
      "weighted avg       0.98      0.98      0.98      3960\n",
      "\n"
     ]
    }
   ],
   "source": [
    "report=classification_report(y_test,xgb.predict(x_test))\n",
    "print(report)"
   ]
  },
  {
   "cell_type": "markdown",
   "id": "ae84060f",
   "metadata": {},
   "source": [
    "## SUPPORT VECTOR MACHINE"
   ]
  },
  {
   "cell_type": "code",
   "execution_count": 33,
   "id": "00e77c86",
   "metadata": {},
   "outputs": [
    {
     "data": {
      "text/html": [
       "<style>#sk-container-id-5 {color: black;background-color: white;}#sk-container-id-5 pre{padding: 0;}#sk-container-id-5 div.sk-toggleable {background-color: white;}#sk-container-id-5 label.sk-toggleable__label {cursor: pointer;display: block;width: 100%;margin-bottom: 0;padding: 0.3em;box-sizing: border-box;text-align: center;}#sk-container-id-5 label.sk-toggleable__label-arrow:before {content: \"▸\";float: left;margin-right: 0.25em;color: #696969;}#sk-container-id-5 label.sk-toggleable__label-arrow:hover:before {color: black;}#sk-container-id-5 div.sk-estimator:hover label.sk-toggleable__label-arrow:before {color: black;}#sk-container-id-5 div.sk-toggleable__content {max-height: 0;max-width: 0;overflow: hidden;text-align: left;background-color: #f0f8ff;}#sk-container-id-5 div.sk-toggleable__content pre {margin: 0.2em;color: black;border-radius: 0.25em;background-color: #f0f8ff;}#sk-container-id-5 input.sk-toggleable__control:checked~div.sk-toggleable__content {max-height: 200px;max-width: 100%;overflow: auto;}#sk-container-id-5 input.sk-toggleable__control:checked~label.sk-toggleable__label-arrow:before {content: \"▾\";}#sk-container-id-5 div.sk-estimator input.sk-toggleable__control:checked~label.sk-toggleable__label {background-color: #d4ebff;}#sk-container-id-5 div.sk-label input.sk-toggleable__control:checked~label.sk-toggleable__label {background-color: #d4ebff;}#sk-container-id-5 input.sk-hidden--visually {border: 0;clip: rect(1px 1px 1px 1px);clip: rect(1px, 1px, 1px, 1px);height: 1px;margin: -1px;overflow: hidden;padding: 0;position: absolute;width: 1px;}#sk-container-id-5 div.sk-estimator {font-family: monospace;background-color: #f0f8ff;border: 1px dotted black;border-radius: 0.25em;box-sizing: border-box;margin-bottom: 0.5em;}#sk-container-id-5 div.sk-estimator:hover {background-color: #d4ebff;}#sk-container-id-5 div.sk-parallel-item::after {content: \"\";width: 100%;border-bottom: 1px solid gray;flex-grow: 1;}#sk-container-id-5 div.sk-label:hover label.sk-toggleable__label {background-color: #d4ebff;}#sk-container-id-5 div.sk-serial::before {content: \"\";position: absolute;border-left: 1px solid gray;box-sizing: border-box;top: 0;bottom: 0;left: 50%;z-index: 0;}#sk-container-id-5 div.sk-serial {display: flex;flex-direction: column;align-items: center;background-color: white;padding-right: 0.2em;padding-left: 0.2em;position: relative;}#sk-container-id-5 div.sk-item {position: relative;z-index: 1;}#sk-container-id-5 div.sk-parallel {display: flex;align-items: stretch;justify-content: center;background-color: white;position: relative;}#sk-container-id-5 div.sk-item::before, #sk-container-id-5 div.sk-parallel-item::before {content: \"\";position: absolute;border-left: 1px solid gray;box-sizing: border-box;top: 0;bottom: 0;left: 50%;z-index: -1;}#sk-container-id-5 div.sk-parallel-item {display: flex;flex-direction: column;z-index: 1;position: relative;background-color: white;}#sk-container-id-5 div.sk-parallel-item:first-child::after {align-self: flex-end;width: 50%;}#sk-container-id-5 div.sk-parallel-item:last-child::after {align-self: flex-start;width: 50%;}#sk-container-id-5 div.sk-parallel-item:only-child::after {width: 0;}#sk-container-id-5 div.sk-dashed-wrapped {border: 1px dashed gray;margin: 0 0.4em 0.5em 0.4em;box-sizing: border-box;padding-bottom: 0.4em;background-color: white;}#sk-container-id-5 div.sk-label label {font-family: monospace;font-weight: bold;display: inline-block;line-height: 1.2em;}#sk-container-id-5 div.sk-label-container {text-align: center;}#sk-container-id-5 div.sk-container {/* jupyter's `normalize.less` sets `[hidden] { display: none; }` but bootstrap.min.css set `[hidden] { display: none !important; }` so we also need the `!important` here to be able to override the default hidden behavior on the sphinx rendered scikit-learn.org. See: https://github.com/scikit-learn/scikit-learn/issues/21755 */display: inline-block !important;position: relative;}#sk-container-id-5 div.sk-text-repr-fallback {display: none;}</style><div id=\"sk-container-id-5\" class=\"sk-top-container\"><div class=\"sk-text-repr-fallback\"><pre>SVC()</pre><b>In a Jupyter environment, please rerun this cell to show the HTML representation or trust the notebook. <br />On GitHub, the HTML representation is unable to render, please try loading this page with nbviewer.org.</b></div><div class=\"sk-container\" hidden><div class=\"sk-item\"><div class=\"sk-estimator sk-toggleable\"><input class=\"sk-toggleable__control sk-hidden--visually\" id=\"sk-estimator-id-5\" type=\"checkbox\" checked><label for=\"sk-estimator-id-5\" class=\"sk-toggleable__label sk-toggleable__label-arrow\">SVC</label><div class=\"sk-toggleable__content\"><pre>SVC()</pre></div></div></div></div></div>"
      ],
      "text/plain": [
       "SVC()"
      ]
     },
     "execution_count": 33,
     "metadata": {},
     "output_type": "execute_result"
    }
   ],
   "source": [
    "from sklearn.svm import SVC\n",
    "svc=SVC()\n",
    "svc.fit(x_train,y_train)"
   ]
  },
  {
   "cell_type": "code",
   "execution_count": 34,
   "id": "0f6abc47",
   "metadata": {},
   "outputs": [
    {
     "data": {
      "text/plain": [
       "0.945959595959596"
      ]
     },
     "execution_count": 34,
     "metadata": {},
     "output_type": "execute_result"
    }
   ],
   "source": [
    "svc_score=accuracy_score(y_test,svc.predict(x_test))\n",
    "svc_score"
   ]
  },
  {
   "cell_type": "code",
   "execution_count": 35,
   "id": "94edf728",
   "metadata": {},
   "outputs": [
    {
     "name": "stdout",
     "output_type": "stream",
     "text": [
      "[[1841  164]\n",
      " [  50 1905]]\n"
     ]
    },
    {
     "data": {
      "text/plain": [
       "<Axes: >"
      ]
     },
     "execution_count": 35,
     "metadata": {},
     "output_type": "execute_result"
    },
    {
     "data": {
      "image/png": "[encoded data removed]",
      "text/plain": [
       "<Figure size 640x480 with 2 Axes>"
      ]
     },
     "metadata": {},
     "output_type": "display_data"
    }
   ],
   "source": [
    "matrix=confusion_matrix(y_test,svc.predict(x_test))\n",
    "print(matrix)\n",
    "\n",
    "sns.heatmap(matrix,annot=True)"
   ]
  },
  {
   "cell_type": "code",
   "execution_count": 36,
   "id": "451258e2",
   "metadata": {},
   "outputs": [
    {
     "name": "stdout",
     "output_type": "stream",
     "text": [
      "              precision    recall  f1-score   support\n",
      "\n",
      "           0       0.97      0.92      0.95      2005\n",
      "           1       0.92      0.97      0.95      1955\n",
      "\n",
      "    accuracy                           0.95      3960\n",
      "   macro avg       0.95      0.95      0.95      3960\n",
      "weighted avg       0.95      0.95      0.95      3960\n",
      "\n"
     ]
    }
   ],
   "source": [
    "report=classification_report(y_test,svc.predict(x_test))\n",
    "print(report)"
   ]
  },
  {
   "cell_type": "markdown",
   "id": "d37d60bf",
   "metadata": {},
   "source": [
    "## NEURAL NETWORK "
   ]
  },
  {
   "cell_type": "code",
   "execution_count": 37,
   "id": "15e747ae",
   "metadata": {},
   "outputs": [],
   "source": [
    "from tensorflow.keras.models import Sequential\n",
    "from tensorflow.keras.layers import Dense"
   ]
  },
  {
   "cell_type": "code",
   "execution_count": 38,
   "id": "fa1bd124",
   "metadata": {},
   "outputs": [],
   "source": [
    "model=Sequential()\n",
    "model.add(Dense(64,activation='relu',input_shape=(x.shape[1],)))\n",
    "model.add(Dense(1, activation='sigmoid'))"
   ]
  },
  {
   "cell_type": "code",
   "execution_count": 39,
   "id": "1f6c9a1f",
   "metadata": {},
   "outputs": [],
   "source": [
    "model.compile(loss='binary_crossentropy', optimizer='sgd',metrics='accuracy')"
   ]
  },
  {
   "cell_type": "code",
   "execution_count": 40,
   "id": "88a6d6fd",
   "metadata": {},
   "outputs": [
    {
     "name": "stdout",
     "output_type": "stream",
     "text": [
      "Epoch 1/100\n",
      "289/289 [==============================] - 2s 2ms/step - loss: 0.4091 - accuracy: 0.8339\n",
      "Epoch 2/100\n",
      "289/289 [==============================] - 1s 3ms/step - loss: 0.2988 - accuracy: 0.8862\n",
      "Epoch 3/100\n",
      "289/289 [==============================] - 1s 3ms/step - loss: 0.2762 - accuracy: 0.8955\n",
      "Epoch 4/100\n",
      "289/289 [==============================] - 1s 3ms/step - loss: 0.2628 - accuracy: 0.8991\n",
      "Epoch 5/100\n",
      "289/289 [==============================] - 1s 3ms/step - loss: 0.2533 - accuracy: 0.9005\n",
      "Epoch 6/100\n",
      "289/289 [==============================] - 1s 3ms/step - loss: 0.2456 - accuracy: 0.9016\n",
      "Epoch 7/100\n",
      "289/289 [==============================] - 1s 3ms/step - loss: 0.2396 - accuracy: 0.9032\n",
      "Epoch 8/100\n",
      "289/289 [==============================] - 1s 3ms/step - loss: 0.2345 - accuracy: 0.9042\n",
      "Epoch 9/100\n",
      "289/289 [==============================] - 1s 3ms/step - loss: 0.2298 - accuracy: 0.9071\n",
      "Epoch 10/100\n",
      "289/289 [==============================] - 1s 3ms/step - loss: 0.2255 - accuracy: 0.9095\n",
      "Epoch 11/100\n",
      "289/289 [==============================] - 1s 3ms/step - loss: 0.2217 - accuracy: 0.9138\n",
      "Epoch 12/100\n",
      "289/289 [==============================] - 1s 3ms/step - loss: 0.2179 - accuracy: 0.9160\n",
      "Epoch 13/100\n",
      "289/289 [==============================] - 1s 3ms/step - loss: 0.2143 - accuracy: 0.9176\n",
      "Epoch 14/100\n",
      "289/289 [==============================] - 1s 3ms/step - loss: 0.2110 - accuracy: 0.9208\n",
      "Epoch 15/100\n",
      "289/289 [==============================] - 1s 3ms/step - loss: 0.2078 - accuracy: 0.9220\n",
      "Epoch 16/100\n",
      "289/289 [==============================] - 1s 3ms/step - loss: 0.2047 - accuracy: 0.9233\n",
      "Epoch 17/100\n",
      "289/289 [==============================] - 1s 3ms/step - loss: 0.2017 - accuracy: 0.9249\n",
      "Epoch 18/100\n",
      "289/289 [==============================] - 1s 3ms/step - loss: 0.1988 - accuracy: 0.9262\n",
      "Epoch 19/100\n",
      "289/289 [==============================] - 1s 3ms/step - loss: 0.1961 - accuracy: 0.9284\n",
      "Epoch 20/100\n",
      "289/289 [==============================] - 1s 3ms/step - loss: 0.1933 - accuracy: 0.9296\n",
      "Epoch 21/100\n",
      "289/289 [==============================] - 1s 3ms/step - loss: 0.1909 - accuracy: 0.9307\n",
      "Epoch 22/100\n",
      "289/289 [==============================] - 1s 3ms/step - loss: 0.1883 - accuracy: 0.9326\n",
      "Epoch 23/100\n",
      "289/289 [==============================] - 1s 3ms/step - loss: 0.1859 - accuracy: 0.9339\n",
      "Epoch 24/100\n",
      "289/289 [==============================] - 1s 3ms/step - loss: 0.1836 - accuracy: 0.9353\n",
      "Epoch 25/100\n",
      "289/289 [==============================] - 1s 3ms/step - loss: 0.1811 - accuracy: 0.9362\n",
      "Epoch 26/100\n",
      "289/289 [==============================] - 1s 3ms/step - loss: 0.1791 - accuracy: 0.9373\n",
      "Epoch 27/100\n",
      "289/289 [==============================] - 1s 3ms/step - loss: 0.1769 - accuracy: 0.9392\n",
      "Epoch 28/100\n",
      "289/289 [==============================] - 1s 3ms/step - loss: 0.1748 - accuracy: 0.9407\n",
      "Epoch 29/100\n",
      "289/289 [==============================] - 1s 3ms/step - loss: 0.1727 - accuracy: 0.9417\n",
      "Epoch 30/100\n",
      "289/289 [==============================] - 1s 3ms/step - loss: 0.1707 - accuracy: 0.9428\n",
      "Epoch 31/100\n",
      "289/289 [==============================] - 1s 3ms/step - loss: 0.1688 - accuracy: 0.9440\n",
      "Epoch 32/100\n",
      "289/289 [==============================] - 1s 2ms/step - loss: 0.1670 - accuracy: 0.9440\n",
      "Epoch 33/100\n",
      "289/289 [==============================] - 1s 3ms/step - loss: 0.1651 - accuracy: 0.9454\n",
      "Epoch 34/100\n",
      "289/289 [==============================] - 1s 3ms/step - loss: 0.1633 - accuracy: 0.9454\n",
      "Epoch 35/100\n",
      "289/289 [==============================] - 1s 3ms/step - loss: 0.1615 - accuracy: 0.9457\n",
      "Epoch 36/100\n",
      "289/289 [==============================] - 1s 3ms/step - loss: 0.1598 - accuracy: 0.9473\n",
      "Epoch 37/100\n",
      "289/289 [==============================] - 1s 3ms/step - loss: 0.1582 - accuracy: 0.9478\n",
      "Epoch 38/100\n",
      "289/289 [==============================] - 1s 3ms/step - loss: 0.1567 - accuracy: 0.9481\n",
      "Epoch 39/100\n",
      "289/289 [==============================] - 1s 3ms/step - loss: 0.1551 - accuracy: 0.9492\n",
      "Epoch 40/100\n",
      "289/289 [==============================] - 1s 3ms/step - loss: 0.1536 - accuracy: 0.9492\n",
      "Epoch 41/100\n",
      "289/289 [==============================] - 1s 3ms/step - loss: 0.1520 - accuracy: 0.9511\n",
      "Epoch 42/100\n",
      "289/289 [==============================] - 1s 3ms/step - loss: 0.1507 - accuracy: 0.9509\n",
      "Epoch 43/100\n",
      "289/289 [==============================] - 1s 2ms/step - loss: 0.1493 - accuracy: 0.9522\n",
      "Epoch 44/100\n",
      "289/289 [==============================] - 1s 3ms/step - loss: 0.1479 - accuracy: 0.9524\n",
      "Epoch 45/100\n",
      "289/289 [==============================] - 1s 3ms/step - loss: 0.1466 - accuracy: 0.9536\n",
      "Epoch 46/100\n",
      "289/289 [==============================] - 1s 2ms/step - loss: 0.1454 - accuracy: 0.9539\n",
      "Epoch 47/100\n",
      "289/289 [==============================] - 1s 3ms/step - loss: 0.1442 - accuracy: 0.9540\n",
      "Epoch 48/100\n",
      "289/289 [==============================] - 1s 3ms/step - loss: 0.1428 - accuracy: 0.9555\n",
      "Epoch 49/100\n",
      "289/289 [==============================] - 1s 3ms/step - loss: 0.1417 - accuracy: 0.9555\n",
      "Epoch 50/100\n",
      "289/289 [==============================] - 1s 3ms/step - loss: 0.1405 - accuracy: 0.9554\n",
      "Epoch 51/100\n",
      "289/289 [==============================] - 1s 3ms/step - loss: 0.1394 - accuracy: 0.9570\n",
      "Epoch 52/100\n",
      "289/289 [==============================] - 1s 2ms/step - loss: 0.1382 - accuracy: 0.9574\n",
      "Epoch 53/100\n",
      "289/289 [==============================] - 1s 3ms/step - loss: 0.1371 - accuracy: 0.9579\n",
      "Epoch 54/100\n",
      "289/289 [==============================] - 1s 3ms/step - loss: 0.1360 - accuracy: 0.9584\n",
      "Epoch 55/100\n",
      "289/289 [==============================] - 1s 3ms/step - loss: 0.1347 - accuracy: 0.9591\n",
      "Epoch 56/100\n",
      "289/289 [==============================] - 1s 3ms/step - loss: 0.1338 - accuracy: 0.9595\n",
      "Epoch 57/100\n",
      "289/289 [==============================] - 1s 3ms/step - loss: 0.1328 - accuracy: 0.9597\n",
      "Epoch 58/100\n",
      "289/289 [==============================] - 1s 2ms/step - loss: 0.1317 - accuracy: 0.9609\n",
      "Epoch 59/100\n",
      "289/289 [==============================] - 1s 2ms/step - loss: 0.1307 - accuracy: 0.9614\n",
      "Epoch 60/100\n",
      "289/289 [==============================] - 1s 2ms/step - loss: 0.1297 - accuracy: 0.9614\n",
      "Epoch 61/100\n",
      "289/289 [==============================] - 1s 2ms/step - loss: 0.1286 - accuracy: 0.9629\n",
      "Epoch 62/100\n",
      "289/289 [==============================] - 1s 2ms/step - loss: 0.1277 - accuracy: 0.9630\n",
      "Epoch 63/100\n",
      "289/289 [==============================] - 1s 3ms/step - loss: 0.1267 - accuracy: 0.9634\n",
      "Epoch 64/100\n",
      "289/289 [==============================] - 1s 3ms/step - loss: 0.1257 - accuracy: 0.9632\n",
      "Epoch 65/100\n",
      "289/289 [==============================] - 1s 2ms/step - loss: 0.1248 - accuracy: 0.9635\n",
      "Epoch 66/100\n",
      "289/289 [==============================] - 1s 3ms/step - loss: 0.1238 - accuracy: 0.9645\n",
      "Epoch 67/100\n",
      "289/289 [==============================] - 1s 2ms/step - loss: 0.1229 - accuracy: 0.9647\n",
      "Epoch 68/100\n",
      "289/289 [==============================] - 1s 2ms/step - loss: 0.1221 - accuracy: 0.9645\n",
      "Epoch 69/100\n",
      "289/289 [==============================] - 1s 3ms/step - loss: 0.1212 - accuracy: 0.9655\n",
      "Epoch 70/100\n",
      "289/289 [==============================] - 1s 3ms/step - loss: 0.1204 - accuracy: 0.9657\n",
      "Epoch 71/100\n",
      "289/289 [==============================] - 1s 2ms/step - loss: 0.1195 - accuracy: 0.9659\n",
      "Epoch 72/100\n",
      "289/289 [==============================] - 1s 2ms/step - loss: 0.1186 - accuracy: 0.9660\n",
      "Epoch 73/100\n",
      "289/289 [==============================] - 1s 3ms/step - loss: 0.1177 - accuracy: 0.9662\n",
      "Epoch 74/100\n",
      "289/289 [==============================] - 1s 3ms/step - loss: 0.1170 - accuracy: 0.9658\n",
      "Epoch 75/100\n",
      "289/289 [==============================] - 1s 3ms/step - loss: 0.1160 - accuracy: 0.9675\n",
      "Epoch 76/100\n",
      "289/289 [==============================] - 1s 2ms/step - loss: 0.1154 - accuracy: 0.9663\n",
      "Epoch 77/100\n",
      "289/289 [==============================] - 1s 2ms/step - loss: 0.1147 - accuracy: 0.9669\n",
      "Epoch 78/100\n",
      "289/289 [==============================] - 1s 2ms/step - loss: 0.1138 - accuracy: 0.9672\n",
      "Epoch 79/100\n",
      "289/289 [==============================] - 1s 3ms/step - loss: 0.1129 - accuracy: 0.9679\n",
      "Epoch 80/100\n",
      "289/289 [==============================] - 1s 2ms/step - loss: 0.1123 - accuracy: 0.9673\n",
      "Epoch 81/100\n"
     ]
    },
    {
     "name": "stdout",
     "output_type": "stream",
     "text": [
      "289/289 [==============================] - 1s 3ms/step - loss: 0.1115 - accuracy: 0.9669\n",
      "Epoch 82/100\n",
      "289/289 [==============================] - 1s 3ms/step - loss: 0.1107 - accuracy: 0.9675\n",
      "Epoch 83/100\n",
      "289/289 [==============================] - 1s 3ms/step - loss: 0.1100 - accuracy: 0.9676\n",
      "Epoch 84/100\n",
      "289/289 [==============================] - 1s 3ms/step - loss: 0.1093 - accuracy: 0.9681\n",
      "Epoch 85/100\n",
      "289/289 [==============================] - 1s 3ms/step - loss: 0.1086 - accuracy: 0.9685\n",
      "Epoch 86/100\n",
      "289/289 [==============================] - 1s 3ms/step - loss: 0.1078 - accuracy: 0.9688\n",
      "Epoch 87/100\n",
      "289/289 [==============================] - 1s 3ms/step - loss: 0.1073 - accuracy: 0.9686\n",
      "Epoch 88/100\n",
      "289/289 [==============================] - 1s 3ms/step - loss: 0.1065 - accuracy: 0.9696\n",
      "Epoch 89/100\n",
      "289/289 [==============================] - 1s 3ms/step - loss: 0.1058 - accuracy: 0.9689\n",
      "Epoch 90/100\n",
      "289/289 [==============================] - 1s 3ms/step - loss: 0.1050 - accuracy: 0.9696\n",
      "Epoch 91/100\n",
      "289/289 [==============================] - 1s 3ms/step - loss: 0.1044 - accuracy: 0.9687\n",
      "Epoch 92/100\n",
      "289/289 [==============================] - 1s 3ms/step - loss: 0.1037 - accuracy: 0.9698\n",
      "Epoch 93/100\n",
      "289/289 [==============================] - 1s 3ms/step - loss: 0.1030 - accuracy: 0.9704\n",
      "Epoch 94/100\n",
      "289/289 [==============================] - 1s 3ms/step - loss: 0.1024 - accuracy: 0.9706\n",
      "Epoch 95/100\n",
      "289/289 [==============================] - 1s 2ms/step - loss: 0.1019 - accuracy: 0.9708\n",
      "Epoch 96/100\n",
      "289/289 [==============================] - 1s 3ms/step - loss: 0.1012 - accuracy: 0.9700\n",
      "Epoch 97/100\n",
      "289/289 [==============================] - 1s 3ms/step - loss: 0.1005 - accuracy: 0.9714\n",
      "Epoch 98/100\n",
      "289/289 [==============================] - 1s 3ms/step - loss: 0.0999 - accuracy: 0.9715\n",
      "Epoch 99/100\n",
      "289/289 [==============================] - 1s 3ms/step - loss: 0.0990 - accuracy: 0.9715\n",
      "Epoch 100/100\n",
      "289/289 [==============================] - 1s 3ms/step - loss: 0.0987 - accuracy: 0.9712\n"
     ]
    },
    {
     "data": {
      "text/plain": [
       "<keras.callbacks.History at 0x132dc973d10>"
      ]
     },
     "execution_count": 40,
     "metadata": {},
     "output_type": "execute_result"
    }
   ],
   "source": [
    "model.fit(x_train,y_train,epochs=100,verbose=1)"
   ]
  },
  {
   "cell_type": "code",
   "execution_count": 41,
   "id": "aa6e8fe2",
   "metadata": {},
   "outputs": [
    {
     "name": "stdout",
     "output_type": "stream",
     "text": [
      "124/124 [==============================] - 0s 2ms/step\n"
     ]
    }
   ],
   "source": [
    "y_predicted=model.predict(x_test)\n",
    "y_predicted=[0 if val<0.5 else 1 for val in y_predicted]"
   ]
  },
  {
   "cell_type": "code",
   "execution_count": 42,
   "id": "f76f0f5a",
   "metadata": {},
   "outputs": [
    {
     "data": {
      "text/plain": [
       "0.9656565656565657"
      ]
     },
     "execution_count": 42,
     "metadata": {},
     "output_type": "execute_result"
    }
   ],
   "source": [
    "tf_score=accuracy_score(y_test,y_predicted)\n",
    "tf_score"
   ]
  },
  {
   "cell_type": "code",
   "execution_count": 43,
   "id": "48f217f7",
   "metadata": {},
   "outputs": [
    {
     "name": "stdout",
     "output_type": "stream",
     "text": [
      "[[1888  117]\n",
      " [  19 1936]]\n"
     ]
    },
    {
     "data": {
      "text/plain": [
       "<Axes: >"
      ]
     },
     "execution_count": 43,
     "metadata": {},
     "output_type": "execute_result"
    },
    {
     "data": {
      "image/png": "[encoded data removed]",
      "text/plain": [
       "<Figure size 640x480 with 2 Axes>"
      ]
     },
     "metadata": {},
     "output_type": "display_data"
    }
   ],
   "source": [
    "matrix=confusion_matrix(y_test,y_predicted)\n",
    "print(matrix)\n",
    "\n",
    "sns.heatmap(matrix,annot=True)"
   ]
  },
  {
   "cell_type": "code",
   "execution_count": 44,
   "id": "6a2f6ae8",
   "metadata": {},
   "outputs": [
    {
     "name": "stdout",
     "output_type": "stream",
     "text": [
      "              precision    recall  f1-score   support\n",
      "\n",
      "           0       0.99      0.94      0.97      2005\n",
      "           1       0.94      0.99      0.97      1955\n",
      "\n",
      "    accuracy                           0.97      3960\n",
      "   macro avg       0.97      0.97      0.97      3960\n",
      "weighted avg       0.97      0.97      0.97      3960\n",
      "\n"
     ]
    }
   ],
   "source": [
    "report=classification_report(y_test,y_predicted)\n",
    "print(report)"
   ]
  },
  {
   "cell_type": "markdown",
   "id": "ec75b69a",
   "metadata": {},
   "source": [
    "## MODEL COMPARISON"
   ]
  },
  {
   "cell_type": "code",
   "execution_count": 45,
   "id": "333c9fe3",
   "metadata": {},
   "outputs": [],
   "source": [
    "comparing_model = pd.DataFrame({\n",
    "    'model': ['logistic_regression', 'decision_tree', 'random_forest', 'xgb', 'svm', 'tf_model'],\n",
    "    'accuracy_score': [reg_score, tree_score, rf_score, xgb_score, svc_score, tf_score],\n",
    "    \n",
    "})\n"
   ]
  },
  {
   "cell_type": "code",
   "execution_count": 46,
   "id": "57283d01",
   "metadata": {},
   "outputs": [
    {
     "data": {
      "text/html": [
       "<div>\n",
       "<style scoped>\n",
       "    .dataframe tbody tr th:only-of-type {\n",
       "        vertical-align: middle;\n",
       "    }\n",
       "\n",
       "    .dataframe tbody tr th {\n",
       "        vertical-align: top;\n",
       "    }\n",
       "\n",
       "    .dataframe thead th {\n",
       "        text-align: right;\n",
       "    }\n",
       "</style>\n",
       "<table border=\"1\" class=\"dataframe\">\n",
       "  <thead>\n",
       "    <tr style=\"text-align: right;\">\n",
       "      <th></th>\n",
       "      <th>model</th>\n",
       "      <th>accuracy_score</th>\n",
       "    </tr>\n",
       "  </thead>\n",
       "  <tbody>\n",
       "    <tr>\n",
       "      <th>3</th>\n",
       "      <td>xgb</td>\n",
       "      <td>0.978788</td>\n",
       "    </tr>\n",
       "    <tr>\n",
       "      <th>2</th>\n",
       "      <td>random_forest</td>\n",
       "      <td>0.975253</td>\n",
       "    </tr>\n",
       "    <tr>\n",
       "      <th>5</th>\n",
       "      <td>tf_model</td>\n",
       "      <td>0.965657</td>\n",
       "    </tr>\n",
       "    <tr>\n",
       "      <th>4</th>\n",
       "      <td>svm</td>\n",
       "      <td>0.945960</td>\n",
       "    </tr>\n",
       "    <tr>\n",
       "      <th>1</th>\n",
       "      <td>decision_tree</td>\n",
       "      <td>0.931818</td>\n",
       "    </tr>\n",
       "    <tr>\n",
       "      <th>0</th>\n",
       "      <td>logistic_regression</td>\n",
       "      <td>0.890404</td>\n",
       "    </tr>\n",
       "  </tbody>\n",
       "</table>\n",
       "</div>"
      ],
      "text/plain": [
       "                 model  accuracy_score\n",
       "3                  xgb        0.978788\n",
       "2        random_forest        0.975253\n",
       "5             tf_model        0.965657\n",
       "4                  svm        0.945960\n",
       "1        decision_tree        0.931818\n",
       "0  logistic_regression        0.890404"
      ]
     },
     "execution_count": 46,
     "metadata": {},
     "output_type": "execute_result"
    }
   ],
   "source": [
    "comparing_model.sort_values('accuracy_score',ascending=False,inplace=True)\n",
    "comparing_model"
   ]
  },
  {
   "cell_type": "markdown",
   "id": "cdff51dd",
   "metadata": {},
   "source": [
    "By comparing the performance of all the ML models, we can come to a conclusion that the best models which gives the highest accuracy score and a descent precision and recall are Random Forest and XGB classifier with an accuracy score of 97.8283%."
   ]
  }
 ],
 "metadata": {
  "kernelspec": {
   "display_name": "Python 3 (ipykernel)",
   "language": "python",
   "name": "python3"
  },
  "language_info": {
   "codemirror_mode": {
    "name": "ipython",
    "version": 3
   },
   "file_extension": ".py",
   "mimetype": "text/x-python",
   "name": "python",
   "nbconvert_exporter": "python",
   "pygments_lexer": "ipython3",
   "version": "3.11.4"
  }
 },
 "nbformat": 4,
 "nbformat_minor": 5
}
